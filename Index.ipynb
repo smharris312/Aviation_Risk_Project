{
 "cells": [
  {
   "cell_type": "markdown",
   "metadata": {},
   "source": [
    "# Aviation Risk Analysis\n",
    "\n",
    "## Overview\n",
    "\n",
    "This project aims to analyze the risk involved in aviation business by completing descriptive analyses on the [data](https://www.kaggle.com/datasets/khsamaha/aviation-accident-database-synopses). The ultimate goal of this project is to provide 3 actionable recommendations to companies evaluating the risk involved in the aviation business as potential future directions and strategies."
   ]
  },
  {
   "cell_type": "markdown",
   "metadata": {},
   "source": [
    "## Business Problem\n",
    "\n",
    "Businesses that are interested in expanding their businesses to the aviation operations and purchases must evaluate the risk involved prior to making an executive decision.  Knowledge on different risk factors in aviation business can help them provide more effective preventative measures or purchase less accident or incident prone makes and models of the aircraft."
   ]
  },
  {
   "cell_type": "markdown",
   "metadata": {},
   "source": [
    "## Data information\n",
    "This dataset retrieved from the National Transportation Safety Board contains the accidents and incidents that occurred from 1948 to 2022. \n"
   ]
  },
  {
   "cell_type": "code",
   "execution_count": 67,
   "metadata": {},
   "outputs": [],
   "source": [
    "import pandas as pd\n",
    "import matplotlib.pyplot as plt\n",
    "import seaborn as sns"
   ]
  },
  {
   "cell_type": "code",
   "execution_count": 68,
   "metadata": {},
   "outputs": [
    {
     "name": "stdout",
     "output_type": "stream",
     "text": [
      "<class 'pandas.core.frame.DataFrame'>\n",
      "RangeIndex: 90348 entries, 0 to 90347\n",
      "Data columns (total 31 columns):\n",
      " #   Column                  Non-Null Count  Dtype  \n",
      "---  ------                  --------------  -----  \n",
      " 0   Event.Id                88889 non-null  object \n",
      " 1   Investigation.Type      90348 non-null  object \n",
      " 2   Accident.Number         88889 non-null  object \n",
      " 3   Event.Date              88889 non-null  object \n",
      " 4   Location                88837 non-null  object \n",
      " 5   Country                 88663 non-null  object \n",
      " 6   Latitude                34382 non-null  object \n",
      " 7   Longitude               34373 non-null  object \n",
      " 8   Airport.Code            50132 non-null  object \n",
      " 9   Airport.Name            52704 non-null  object \n",
      " 10  Injury.Severity         87889 non-null  object \n",
      " 11  Aircraft.damage         85695 non-null  object \n",
      " 12  Aircraft.Category       32287 non-null  object \n",
      " 13  Registration.Number     87507 non-null  object \n",
      " 14  Make                    88826 non-null  object \n",
      " 15  Model                   88797 non-null  object \n",
      " 16  Amateur.Built           88787 non-null  object \n",
      " 17  Number.of.Engines       82805 non-null  float64\n",
      " 18  Engine.Type             81793 non-null  object \n",
      " 19  FAR.Description         32023 non-null  object \n",
      " 20  Schedule                12582 non-null  object \n",
      " 21  Purpose.of.flight       82697 non-null  object \n",
      " 22  Air.carrier             16648 non-null  object \n",
      " 23  Total.Fatal.Injuries    77488 non-null  float64\n",
      " 24  Total.Serious.Injuries  76379 non-null  float64\n",
      " 25  Total.Minor.Injuries    76956 non-null  float64\n",
      " 26  Total.Uninjured         82977 non-null  float64\n",
      " 27  Weather.Condition       84397 non-null  object \n",
      " 28  Broad.phase.of.flight   61724 non-null  object \n",
      " 29  Report.Status           82505 non-null  object \n",
      " 30  Publication.Date        73659 non-null  object \n",
      "dtypes: float64(5), object(26)\n",
      "memory usage: 21.4+ MB\n"
     ]
    },
    {
     "name": "stderr",
     "output_type": "stream",
     "text": [
      "/var/folders/g7/g9fxssr51yd508bw8xr5xtcw0000gn/T/ipykernel_1940/3113631708.py:1: DtypeWarning: Columns (6,7,28) have mixed types. Specify dtype option on import or set low_memory=False.\n",
      "  df = pd.read_csv('data/Aviation_Data.csv')\n"
     ]
    }
   ],
   "source": [
    "df = pd.read_csv('data/Aviation_Data.csv') \n",
    "df.info()"
   ]
  },
  {
   "cell_type": "markdown",
   "metadata": {},
   "source": [
    "The raw dataset contains 90348 entries and 30 columns. Although not all categories are visible, majority of columns appear to contain some null values. Also, majority of them have objects as their data type."
   ]
  },
  {
   "cell_type": "markdown",
   "metadata": {},
   "source": [
    "## Data Cleaning and Feature Engineering\n",
    "\n",
    "### Dropping irrelevant columns\n",
    "\n",
    "We have decided to drop several irrelevant columns to our risk analyses. These columns include:\n",
    "- Accident Number\n",
    "- Latitude\n",
    "- Longitude\n",
    "- Airport Code\n",
    "- Airport Name\n",
    "- Injury Severity (due to having more detailed information on other columns)\n",
    "- Registration Number\n",
    "- Engine Type\n",
    "- FAR Description\n",
    "- Schedule\n",
    "- Air carrier\n",
    "- Report Status\n",
    "- Publication Date\n"
   ]
  },
  {
   "cell_type": "code",
   "execution_count": 69,
   "metadata": {},
   "outputs": [],
   "source": [
    "columns_to_drop = ['Accident.Number', 'Latitude', 'Longitude', 'Airport.Code',\n",
    "       'Airport.Name', 'Injury.Severity', 'Registration.Number', 'Engine.Type', 'Total.Uninjured', 'FAR.Description',\n",
    "       'Schedule', 'Air.carrier', 'Report.Status',\n",
    "       'Publication.Date']\n",
    "df = df.drop(columns=columns_to_drop)\n"
   ]
  },
  {
   "cell_type": "code",
   "execution_count": 70,
   "metadata": {},
   "outputs": [
    {
     "name": "stdout",
     "output_type": "stream",
     "text": [
      "<class 'pandas.core.frame.DataFrame'>\n",
      "RangeIndex: 90348 entries, 0 to 90347\n",
      "Data columns (total 17 columns):\n",
      " #   Column                  Non-Null Count  Dtype  \n",
      "---  ------                  --------------  -----  \n",
      " 0   Event.Id                88889 non-null  object \n",
      " 1   Investigation.Type      90348 non-null  object \n",
      " 2   Event.Date              88889 non-null  object \n",
      " 3   Location                88837 non-null  object \n",
      " 4   Country                 88663 non-null  object \n",
      " 5   Aircraft.damage         85695 non-null  object \n",
      " 6   Aircraft.Category       32287 non-null  object \n",
      " 7   Make                    88826 non-null  object \n",
      " 8   Model                   88797 non-null  object \n",
      " 9   Amateur.Built           88787 non-null  object \n",
      " 10  Number.of.Engines       82805 non-null  float64\n",
      " 11  Purpose.of.flight       82697 non-null  object \n",
      " 12  Total.Fatal.Injuries    77488 non-null  float64\n",
      " 13  Total.Serious.Injuries  76379 non-null  float64\n",
      " 14  Total.Minor.Injuries    76956 non-null  float64\n",
      " 15  Weather.Condition       84397 non-null  object \n",
      " 16  Broad.phase.of.flight   61724 non-null  object \n",
      "dtypes: float64(4), object(13)\n",
      "memory usage: 11.7+ MB\n"
     ]
    }
   ],
   "source": [
    "df.info() # Now we have 17 columns, instead of 30 columns"
   ]
  },
  {
   "cell_type": "markdown",
   "metadata": {},
   "source": [
    "### Exploring columns\n",
    "\n",
    "Now that the dataframe contains the columns that are relevant to our risk analysis, we look into the missing values and value counts on invidivual columns and determine our strategies for managng missing values and simplifying the data further by focusing on a subset of this data. \n",
    "\n",
    "#### Aircraft Categories\n",
    "First, we explore the column **Aircraft Category** to simplify the dataframe by focusing on one type of aircraft, airplane, as it is more applicable for our risk analysis.\n"
   ]
  },
  {
   "cell_type": "code",
   "execution_count": 72,
   "metadata": {},
   "outputs": [
    {
     "data": {
      "text/plain": [
       "58061"
      ]
     },
     "execution_count": 72,
     "metadata": {},
     "output_type": "execute_result"
    }
   ],
   "source": [
    "df['Aircraft.Category'].isna().sum() #58061\n",
    "df['Aircraft.Category'].value_counts()"
   ]
  },
  {
   "cell_type": "markdown",
   "metadata": {},
   "source": [
    "**Aircraft Categories** column contains many null values, and the **Airplane** is the value with the most counts. Therefore, we decide to exclude all null values due to lack of specification and focus on a subset of data that specifies **Airplane** as the aircraft category. Our rationale for this decision is that the rest of categories such as **Balloon** or **Powered Parachute** are not as applicable to our risk analysis for business stakeholders. Also, inclusion of null values may increase the inaccuracy of the data, as the specific information are not included."
   ]
  },
  {
   "cell_type": "code",
   "execution_count": 73,
   "metadata": {},
   "outputs": [],
   "source": [
    "# Just focusing on 'Airplane' from Aircraft Category\n",
    "df_airplane = df.loc[df['Aircraft.Category'] == 'Airplane']"
   ]
  },
  {
   "cell_type": "markdown",
   "metadata": {},
   "source": [
    "#### Country\n",
    "\n",
    "Here, we examine the **Country** column to determine if we want to proceed with our analyses on international accident and incident occurrence or focus on domestic in the United States."
   ]
  },
  {
   "cell_type": "code",
   "execution_count": 74,
   "metadata": {},
   "outputs": [
    {
     "data": {
      "text/plain": [
       "Country\n",
       "United States               24229\n",
       "Brazil                        244\n",
       "United Kingdom                214\n",
       "Mexico                        207\n",
       "Canada                        176\n",
       "                            ...  \n",
       "Reunion                         1\n",
       "Singapore                       1\n",
       "Cyprus                          1\n",
       "Madagascar                      1\n",
       "Turks and Caicos Islands        1\n",
       "Name: count, Length: 168, dtype: int64"
      ]
     },
     "execution_count": 74,
     "metadata": {},
     "output_type": "execute_result"
    }
   ],
   "source": [
    "df_airplane['Country'].value_counts()"
   ]
  },
  {
   "cell_type": "markdown",
   "metadata": {},
   "source": [
    "Based on the value counts of the **Country** column, we decide to only focus on accidents and incidents occurred in the United States territories and drop any other countries other than **United States**. As companies interested in this project will most likely be new to the aviation business, it may be more beneficial to start venturing out starting from domestic strategies rather than international."
   ]
  },
  {
   "cell_type": "code",
   "execution_count": 75,
   "metadata": {},
   "outputs": [
    {
     "data": {
      "text/plain": [
       "Country\n",
       "United States    24229\n",
       "Name: count, dtype: int64"
      ]
     },
     "execution_count": 75,
     "metadata": {},
     "output_type": "execute_result"
    }
   ],
   "source": [
    "df_USA_airplane = df_airplane.loc[df_airplane['Country'] == 'United States']\n",
    "\n",
    "# Checking if the only value is United States\n",
    "df_USA_airplane['Country'].value_counts()"
   ]
  },
  {
   "cell_type": "markdown",
   "metadata": {},
   "source": [
    "#### Aircraft Damage, Total Fatal Injuries, Total Serious Injuries, Total Minor Injuries, and Total Uninjured\n",
    "\n",
    "For this project, these measures represent the main outcomes fromt individual accidents and incidents. These columns are crucial for completing the risk analyses. Therefore, while we explore these columns and understand the value counts, we also aim to handle the missing values with the most appropriate strategy."
   ]
  },
  {
   "cell_type": "code",
   "execution_count": 77,
   "metadata": {},
   "outputs": [
    {
     "data": {
      "text/plain": [
       "Aircraft.damage\n",
       "Substantial    20523\n",
       "Destroyed       2673\n",
       "Minor            508\n",
       "Unknown           43\n",
       "Name: count, dtype: int64"
      ]
     },
     "execution_count": 77,
     "metadata": {},
     "output_type": "execute_result"
    }
   ],
   "source": [
    "# How many missing values are there?\n",
    "df_USA_airplane[['Aircraft.damage', 'Total.Fatal.Injuries', 'Total.Serious.Injuries', 'Total.Minor.Injuries']].isna().sum()\n",
    "# 482, 2961, 2941, 2596 null values\n",
    "\n",
    "df_USA_airplane['Aircraft.damage'].value_counts()"
   ]
  },
  {
   "cell_type": "markdown",
   "metadata": {},
   "source": [
    "Since there is an **Unknown** category, we decide to impute the missing values with the **Unknown** category in the **Aircraft Damage** column instead of simply deleting the rows. "
   ]
  },
  {
   "cell_type": "code",
   "execution_count": 78,
   "metadata": {},
   "outputs": [
    {
     "name": "stderr",
     "output_type": "stream",
     "text": [
      "/var/folders/g7/g9fxssr51yd508bw8xr5xtcw0000gn/T/ipykernel_1940/613409846.py:1: SettingWithCopyWarning: \n",
      "A value is trying to be set on a copy of a slice from a DataFrame.\n",
      "Try using .loc[row_indexer,col_indexer] = value instead\n",
      "\n",
      "See the caveats in the documentation: https://pandas.pydata.org/pandas-docs/stable/user_guide/indexing.html#returning-a-view-versus-a-copy\n",
      "  df_USA_airplane['Aircraft.damage'] = df_USA_airplane['Aircraft.damage'].fillna(\"Unknown\")\n"
     ]
    },
    {
     "data": {
      "text/plain": [
       "Aircraft.damage\n",
       "Substantial    20523\n",
       "Destroyed       2673\n",
       "Unknown          525\n",
       "Minor            508\n",
       "Name: count, dtype: int64"
      ]
     },
     "execution_count": 78,
     "metadata": {},
     "output_type": "execute_result"
    }
   ],
   "source": [
    "df_USA_airplane['Aircraft.damage'] = df_USA_airplane['Aircraft.damage'].fillna(\"Unknown\")\n",
    "\n",
    "df_USA_airplane['Aircraft.damage'].isna().sum() # 0 null values\n",
    "df_USA_airplane['Aircraft.damage'].value_counts() # 525 Unknown"
   ]
  },
  {
   "cell_type": "code",
   "execution_count": 37,
   "metadata": {},
   "outputs": [
    {
     "data": {
      "text/plain": [
       "count    21268.000000\n",
       "mean         0.342345\n",
       "std          1.891896\n",
       "min          0.000000\n",
       "25%          0.000000\n",
       "50%          0.000000\n",
       "75%          0.000000\n",
       "max        228.000000\n",
       "Name: Total.Fatal.Injuries, dtype: float64"
      ]
     },
     "execution_count": 37,
     "metadata": {},
     "output_type": "execute_result"
    }
   ],
   "source": [
    "df_USA_airplane['Total.Fatal.Injuries'].value_counts()\n",
    "df_USA_airplane['Total.Fatal.Injuries'].describe()"
   ]
  },
  {
   "cell_type": "code",
   "execution_count": 79,
   "metadata": {},
   "outputs": [
    {
     "data": {
      "text/plain": [
       "<Axes: xlabel='Total.Fatal.Injuries', ylabel='Count'>"
      ]
     },
     "execution_count": 79,
     "metadata": {},
     "output_type": "execute_result"
    },
    {
     "data": {
      "image/png": "[encoded data removed]",
      "text/plain": [
       "<Figure size 640x480 with 1 Axes>"
      ]
     },
     "metadata": {},
     "output_type": "display_data"
    }
   ],
   "source": [
    "# Histogram to visualize the distribution\n",
    "sns.histplot(x=df_USA_airplane['Total.Fatal.Injuries'], bins=200)"
   ]
  },
  {
   "cell_type": "markdown",
   "metadata": {},
   "source": []
  },
  {
   "cell_type": "code",
   "execution_count": 42,
   "metadata": {},
   "outputs": [
    {
     "data": {
      "text/plain": [
       "count    21288.000000\n",
       "mean         0.278608\n",
       "std          1.632464\n",
       "min          0.000000\n",
       "25%          0.000000\n",
       "50%          0.000000\n",
       "75%          0.000000\n",
       "max        137.000000\n",
       "Name: Total.Serious.Injuries, dtype: float64"
      ]
     },
     "execution_count": 42,
     "metadata": {},
     "output_type": "execute_result"
    }
   ],
   "source": [
    "df_USA_airplane['Total.Serious.Injuries'].value_counts()\n",
    "df_USA_airplane['Total.Serious.Injuries'].describe()"
   ]
  },
  {
   "cell_type": "code",
   "execution_count": 43,
   "metadata": {},
   "outputs": [
    {
     "data": {
      "text/plain": [
       "<Axes: xlabel='Total.Serious.Injuries', ylabel='Count'>"
      ]
     },
     "execution_count": 43,
     "metadata": {},
     "output_type": "execute_result"
    },
    {
     "data": {
      "image/png": "[encoded data removed]",
      "text/plain": [
       "<Figure size 640x480 with 1 Axes>"
      ]
     },
     "metadata": {},
     "output_type": "display_data"
    }
   ],
   "source": [
    "sns.histplot(x=df_USA_airplane['Total.Serious.Injuries'], bins=200)"
   ]
  },
  {
   "cell_type": "code",
   "execution_count": 45,
   "metadata": {},
   "outputs": [
    {
     "data": {
      "text/plain": [
       "count    21633.000000\n",
       "mean         0.220496\n",
       "std          0.822445\n",
       "min          0.000000\n",
       "25%          0.000000\n",
       "50%          0.000000\n",
       "75%          0.000000\n",
       "max         50.000000\n",
       "Name: Total.Minor.Injuries, dtype: float64"
      ]
     },
     "execution_count": 45,
     "metadata": {},
     "output_type": "execute_result"
    }
   ],
   "source": [
    "df_USA_airplane['Total.Minor.Injuries'].value_counts()\n",
    "df_USA_airplane['Total.Minor.Injuries'].describe()"
   ]
  },
  {
   "cell_type": "code",
   "execution_count": 48,
   "metadata": {},
   "outputs": [
    {
     "data": {
      "text/plain": [
       "<Axes: xlabel='Total.Minor.Injuries', ylabel='Count'>"
      ]
     },
     "execution_count": 48,
     "metadata": {},
     "output_type": "execute_result"
    },
    {
     "data": {
      "image/png": "[encoded data removed]",
      "text/plain": [
       "<Figure size 640x480 with 1 Axes>"
      ]
     },
     "metadata": {},
     "output_type": "display_data"
    }
   ],
   "source": [
    "sns.histplot(x=df_USA_airplane['Total.Minor.Injuries'], bins=50)"
   ]
  },
  {
   "cell_type": "markdown",
   "metadata": {},
   "source": [
    "Based on the value count function and brief histogram visualizations on these columns, we can see that  majority of their values are at **0**. Also, they are highly right skewed. Therefore, our strategy to handle the missing values from these columns is to impute with the median value of each column."
   ]
  },
  {
   "cell_type": "code",
   "execution_count": 80,
   "metadata": {},
   "outputs": [
    {
     "name": "stderr",
     "output_type": "stream",
     "text": [
      "/var/folders/g7/g9fxssr51yd508bw8xr5xtcw0000gn/T/ipykernel_1940/3669202890.py:1: SettingWithCopyWarning: \n",
      "A value is trying to be set on a copy of a slice from a DataFrame.\n",
      "Try using .loc[row_indexer,col_indexer] = value instead\n",
      "\n",
      "See the caveats in the documentation: https://pandas.pydata.org/pandas-docs/stable/user_guide/indexing.html#returning-a-view-versus-a-copy\n",
      "  df_USA_airplane['Total.Fatal.Injuries'] = df_USA_airplane['Total.Fatal.Injuries'].fillna(df_USA_airplane['Total.Fatal.Injuries'].median())\n",
      "/var/folders/g7/g9fxssr51yd508bw8xr5xtcw0000gn/T/ipykernel_1940/3669202890.py:2: SettingWithCopyWarning: \n",
      "A value is trying to be set on a copy of a slice from a DataFrame.\n",
      "Try using .loc[row_indexer,col_indexer] = value instead\n",
      "\n",
      "See the caveats in the documentation: https://pandas.pydata.org/pandas-docs/stable/user_guide/indexing.html#returning-a-view-versus-a-copy\n",
      "  df_USA_airplane['Total.Serious.Injuries'] = df_USA_airplane['Total.Serious.Injuries'].fillna(df_USA_airplane['Total.Serious.Injuries'].median())\n",
      "/var/folders/g7/g9fxssr51yd508bw8xr5xtcw0000gn/T/ipykernel_1940/3669202890.py:3: SettingWithCopyWarning: \n",
      "A value is trying to be set on a copy of a slice from a DataFrame.\n",
      "Try using .loc[row_indexer,col_indexer] = value instead\n",
      "\n",
      "See the caveats in the documentation: https://pandas.pydata.org/pandas-docs/stable/user_guide/indexing.html#returning-a-view-versus-a-copy\n",
      "  df_USA_airplane['Total.Minor.Injuries'] = df_USA_airplane['Total.Minor.Injuries'].fillna(df_USA_airplane['Total.Minor.Injuries'].median())\n"
     ]
    },
    {
     "data": {
      "text/plain": [
       "0"
      ]
     },
     "execution_count": 80,
     "metadata": {},
     "output_type": "execute_result"
    }
   ],
   "source": [
    "df_USA_airplane['Total.Fatal.Injuries'] = df_USA_airplane['Total.Fatal.Injuries'].fillna(df_USA_airplane['Total.Fatal.Injuries'].median())\n",
    "df_USA_airplane['Total.Serious.Injuries'] = df_USA_airplane['Total.Serious.Injuries'].fillna(df_USA_airplane['Total.Serious.Injuries'].median())\n",
    "df_USA_airplane['Total.Minor.Injuries'] = df_USA_airplane['Total.Minor.Injuries'].fillna(df_USA_airplane['Total.Minor.Injuries'].median())\n",
    "\n",
    "df_USA_airplane['Total.Fatal.Injuries'].isna().sum()\n",
    "df_USA_airplane['Total.Serious.Injuries'].isna().sum()\n",
    "df_USA_airplane['Total.Minor.Injuries'].isna().sum()"
   ]
  },
  {
   "cell_type": "markdown",
   "metadata": {},
   "source": [
    "#### Creating **Year** and **Month** columns\n",
    "\n",
    "The **Event Date** column has the year, month, and day of the accident or incident. Here, we are creating two separte columns to extract the **Year** and **Month** of the **Event Date** "
   ]
  },
  {
   "cell_type": "code",
   "execution_count": 81,
   "metadata": {},
   "outputs": [
    {
     "name": "stderr",
     "output_type": "stream",
     "text": [
      "/var/folders/g7/g9fxssr51yd508bw8xr5xtcw0000gn/T/ipykernel_1940/3395827739.py:3: SettingWithCopyWarning: \n",
      "A value is trying to be set on a copy of a slice from a DataFrame.\n",
      "Try using .loc[row_indexer,col_indexer] = value instead\n",
      "\n",
      "See the caveats in the documentation: https://pandas.pydata.org/pandas-docs/stable/user_guide/indexing.html#returning-a-view-versus-a-copy\n",
      "  df_USA_airplane['Year'] = df_USA_airplane['Event.Date'].str.split(\"-\").str[0]\n",
      "/var/folders/g7/g9fxssr51yd508bw8xr5xtcw0000gn/T/ipykernel_1940/3395827739.py:4: SettingWithCopyWarning: \n",
      "A value is trying to be set on a copy of a slice from a DataFrame.\n",
      "Try using .loc[row_indexer,col_indexer] = value instead\n",
      "\n",
      "See the caveats in the documentation: https://pandas.pydata.org/pandas-docs/stable/user_guide/indexing.html#returning-a-view-versus-a-copy\n",
      "  df_USA_airplane['Month'] = df_USA_airplane['Event.Date'].str.split(\"-\").str[1]\n"
     ]
    }
   ],
   "source": [
    "df_USA_airplane['Event.Date'].sort_values(ascending=False)\n",
    "\n",
    "df_USA_airplane['Year'] = df_USA_airplane['Event.Date'].str.split(\"-\").str[0]\n",
    "df_USA_airplane['Month'] = df_USA_airplane['Event.Date'].str.split(\"-\").str[1]"
   ]
  },
  {
   "cell_type": "code",
   "execution_count": 82,
   "metadata": {},
   "outputs": [
    {
     "data": {
      "text/plain": [
       "5        1979\n",
       "7        1982\n",
       "8        1982\n",
       "12       1982\n",
       "13       1982\n",
       "         ... \n",
       "90328    2022\n",
       "90332    2022\n",
       "90335    2022\n",
       "90336    2022\n",
       "90345    2022\n",
       "Name: Year, Length: 24229, dtype: object"
      ]
     },
     "execution_count": 82,
     "metadata": {},
     "output_type": "execute_result"
    }
   ],
   "source": [
    "df_USA_airplane['Year']\n",
    "df_USA_airplane['Month']"
   ]
  },
  {
   "cell_type": "code",
   "execution_count": 88,
   "metadata": {},
   "outputs": [],
   "source": [
    "# df_USA_airplane.to_csv(\"USA_Airplane_Clean.csv\")"
   ]
  }
 ],
 "metadata": {
  "kernelspec": {
   "display_name": "Python 3.10.2 64-bit",
   "language": "python",
   "name": "python3"
  },
  "language_info": {
   "codemirror_mode": {
    "name": "ipython",
    "version": 3
   },
   "file_extension": ".py",
   "mimetype": "text/x-python",
   "name": "python",
   "nbconvert_exporter": "python",
   "pygments_lexer": "ipython3",
   "version": "3.10.2"
  },
  "orig_nbformat": 4,
  "vscode": {
   "interpreter": {
    "hash": "aee8b7b246df8f9039afb4144a1f6fd8d2ca17a180786b69acc140d282b71a49"
   }
  }
 },
 "nbformat": 4,
 "nbformat_minor": 2
}
