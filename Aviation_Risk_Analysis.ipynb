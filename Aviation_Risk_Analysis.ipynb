{
 "cells": [
  {
   "attachments": {},
   "cell_type": "markdown",
   "metadata": {},
   "source": [
    "# Aviation Risk Analysis\n",
    "\n",
    "## Overview\n",
    "\n",
    "This project aims to analyze the risk involved in aviation business by completing descriptive analyses on the [data](https://www.kaggle.com/datasets/khsamaha/aviation-accident-database-synopses). The ultimate goal of this project is to provide 3 actionable recommendations to the business stakeholders evaluating the risk involved in the aviation business as potential future directions and strategies."
   ]
  },
  {
   "attachments": {},
   "cell_type": "markdown",
   "metadata": {},
   "source": [
    "## Business Problem\n",
    "\n",
    "Businesses that are interested in expanding to the aviation operations and purchases must evaluate the risk involved prior to making an executive decision.  Knowledge on different risk factors in aviation business can help them provide more effective preventative measures or purchase less accident prone makes and models of the aircraft."
   ]
  },
  {
   "attachments": {},
   "cell_type": "markdown",
   "metadata": {},
   "source": [
    "## Data information\n",
    "\n",
    "The data is retrieved from the National Transportation Safety Board. It contains aircraft accident and incident reports. First, we want to import important packages for our cleaning and analyses, and read in the raw data in .csv file."
   ]
  },
  {
   "cell_type": "code",
   "execution_count": 1,
   "metadata": {},
   "outputs": [],
   "source": [
    "import pandas as pd\n",
    "import matplotlib.pyplot as plt\n",
    "import seaborn as sns\n",
    "import numpy as np"
   ]
  },
  {
   "cell_type": "code",
   "execution_count": 28,
   "metadata": {},
   "outputs": [
    {
     "name": "stdout",
     "output_type": "stream",
     "text": [
      "<class 'pandas.core.frame.DataFrame'>\n",
      "RangeIndex: 90348 entries, 0 to 90347\n",
      "Data columns (total 31 columns):\n",
      " #   Column                  Non-Null Count  Dtype  \n",
      "---  ------                  --------------  -----  \n",
      " 0   Event.Id                88889 non-null  object \n",
      " 1   Investigation.Type      90348 non-null  object \n",
      " 2   Accident.Number         88889 non-null  object \n",
      " 3   Event.Date              88889 non-null  object \n",
      " 4   Location                88837 non-null  object \n",
      " 5   Country                 88663 non-null  object \n",
      " 6   Latitude                34382 non-null  object \n",
      " 7   Longitude               34373 non-null  object \n",
      " 8   Airport.Code            50132 non-null  object \n",
      " 9   Airport.Name            52704 non-null  object \n",
      " 10  Injury.Severity         87889 non-null  object \n",
      " 11  Aircraft.damage         85695 non-null  object \n",
      " 12  Aircraft.Category       32287 non-null  object \n",
      " 13  Registration.Number     87507 non-null  object \n",
      " 14  Make                    88826 non-null  object \n",
      " 15  Model                   88797 non-null  object \n",
      " 16  Amateur.Built           88787 non-null  object \n",
      " 17  Number.of.Engines       82805 non-null  float64\n",
      " 18  Engine.Type             81793 non-null  object \n",
      " 19  FAR.Description         32023 non-null  object \n",
      " 20  Schedule                12582 non-null  object \n",
      " 21  Purpose.of.flight       82697 non-null  object \n",
      " 22  Air.carrier             16648 non-null  object \n",
      " 23  Total.Fatal.Injuries    77488 non-null  float64\n",
      " 24  Total.Serious.Injuries  76379 non-null  float64\n",
      " 25  Total.Minor.Injuries    76956 non-null  float64\n",
      " 26  Total.Uninjured         82977 non-null  float64\n",
      " 27  Weather.Condition       84397 non-null  object \n",
      " 28  Broad.phase.of.flight   61724 non-null  object \n",
      " 29  Report.Status           82505 non-null  object \n",
      " 30  Publication.Date        73659 non-null  object \n",
      "dtypes: float64(5), object(26)\n",
      "memory usage: 21.4+ MB\n"
     ]
    },
    {
     "name": "stderr",
     "output_type": "stream",
     "text": [
      "/var/folders/g7/g9fxssr51yd508bw8xr5xtcw0000gn/T/ipykernel_13539/2998118098.py:1: DtypeWarning: Columns (6,7,28) have mixed types. Specify dtype option on import or set low_memory=False.\n",
      "  df = pd.read_csv('Aviation_Data.csv')\n"
     ]
    }
   ],
   "source": [
    "df = pd.read_csv('Aviation_Data.csv') \n",
    "df.info()"
   ]
  },
  {
   "attachments": {},
   "cell_type": "markdown",
   "metadata": {},
   "source": [
    "The raw dataset contains 90348 entries and 30 columns, dating from 1948 to 2022. Although not all categories are visible, majority of columns appear to contain some null values. Also, majority of them have objects as their data type."
   ]
  },
  {
   "attachments": {},
   "cell_type": "markdown",
   "metadata": {},
   "source": [
    "## Data Cleaning and Feature Engineering\n",
    "\n",
    "For the purpose of this project, we want to focus on a subset of the dataset provided. Since the stakeholders are new to the aviation business, we want to start with **domestic** operations. We also decide to focus on the **airplanes** as a type of aircraft, as the airplanes are typical type of aircraft used in the aviation business. **No amateur built airplanes** are included, because we reason that the amateur builts airplanes are not suitable for stakeholders to consider for their business model. Lastly,  we only consider the **accident reports** from the data, as the accidents typically lead to more aircraft damages and injuries.\n",
    "\n",
    "To propose recommendations to the stakeholders for their airplane operation business model, we complete 3 main exploratory data analysis (EDA) focusing on accident reports during last 10 years (from 2013 to 2022):\n",
    "\n",
    "1. Month of the year with most accidents\n",
    "2. Number of accidents and the severity of the airplane damage\n",
    "3. Number of injuries of top 5 makes of airplanes with most accident reports\n",
    "\n",
    "\n",
    "### Dropping irrelevant columns\n",
    "\n",
    "We have decided to drop several irrelevant columns to our risk analyses. Here are columns dropped and the reasons for eliminating from the working dataset:\n",
    "- **Accident Number** : \"Event ID\" column already providing unique ID for individual rows\n",
    "- **Latitude** : too many missing values\n",
    "- **Longitude** : too many missing values\n",
    "- **Airport Code** : too many missing values\n",
    "- **Airport Name** : \"Location\" column already providing information on the location of accidents\n",
    "- **Injury Severity** : having more detailed information on other columns\n",
    "- **Registration Number** : irrelevant for risk analyses planned\n",
    "- **Engine Type** : too many missing values\n",
    "- **Total Uninjured** : many \"0\" values, which we interpret as inaccurate\n",
    "- **FAR Description** : irrelevant for risk analyses planned\n",
    "- **Schedule** : too many missing values\n",
    "- **Air carrier** : too many missing values\n",
    "- **Report Status** : too many missing values\n",
    "- **Publication Date** : irrelevant for risk analyses planned\n",
    "- **Broad Phase of Flight** : too many missing values"
   ]
  },
  {
   "cell_type": "code",
   "execution_count": 29,
   "metadata": {},
   "outputs": [],
   "source": [
    "columns_to_drop = ['Accident.Number', 'Latitude', 'Longitude', 'Airport.Code',\n",
    "       'Airport.Name', 'Injury.Severity', 'Registration.Number', 'Engine.Type', 'Total.Uninjured', 'FAR.Description',\n",
    "       'Schedule', 'Air.carrier', 'Report.Status',\n",
    "       'Publication.Date', 'Broad.phase.of.flight']\n",
    "df = df.drop(columns=columns_to_drop)"
   ]
  },
  {
   "cell_type": "code",
   "execution_count": 30,
   "metadata": {},
   "outputs": [
    {
     "name": "stdout",
     "output_type": "stream",
     "text": [
      "<class 'pandas.core.frame.DataFrame'>\n",
      "RangeIndex: 90348 entries, 0 to 90347\n",
      "Data columns (total 16 columns):\n",
      " #   Column                  Non-Null Count  Dtype  \n",
      "---  ------                  --------------  -----  \n",
      " 0   Event.Id                88889 non-null  object \n",
      " 1   Investigation.Type      90348 non-null  object \n",
      " 2   Event.Date              88889 non-null  object \n",
      " 3   Location                88837 non-null  object \n",
      " 4   Country                 88663 non-null  object \n",
      " 5   Aircraft.damage         85695 non-null  object \n",
      " 6   Aircraft.Category       32287 non-null  object \n",
      " 7   Make                    88826 non-null  object \n",
      " 8   Model                   88797 non-null  object \n",
      " 9   Amateur.Built           88787 non-null  object \n",
      " 10  Number.of.Engines       82805 non-null  float64\n",
      " 11  Purpose.of.flight       82697 non-null  object \n",
      " 12  Total.Fatal.Injuries    77488 non-null  float64\n",
      " 13  Total.Serious.Injuries  76379 non-null  float64\n",
      " 14  Total.Minor.Injuries    76956 non-null  float64\n",
      " 15  Weather.Condition       84397 non-null  object \n",
      "dtypes: float64(4), object(12)\n",
      "memory usage: 11.0+ MB\n"
     ]
    }
   ],
   "source": [
    "df.info() # Now we have 16 columns, instead of 30 columns"
   ]
  },
  {
   "attachments": {},
   "cell_type": "markdown",
   "metadata": {},
   "source": [
    "### Exploring Columns and Filtering\n",
    "\n",
    "Now that the dataframe contains the columns that are relevant to our risk analysis, we look into the missing values and value counts on invidivual columns and determine our strategies for managing missing values and simplifying the data further by focusing on a subset of this data. \n",
    "\n",
    "#### Aircraft Categories\n",
    "First, we explore the column **Aircraft Category** to simplify the dataframe by focusing on one type of aircraft, **airplane**, as it is more applicable for our risk analysis.\n"
   ]
  },
  {
   "cell_type": "code",
   "execution_count": 32,
   "metadata": {},
   "outputs": [
    {
     "data": {
      "text/plain": [
       "Aircraft.Category\n",
       "Airplane             27617\n",
       "Helicopter            3440\n",
       "Glider                 508\n",
       "Balloon                231\n",
       "Gyrocraft              173\n",
       "Weight-Shift           161\n",
       "Powered Parachute       91\n",
       "Ultralight              30\n",
       "Unknown                 14\n",
       "WSFT                     9\n",
       "Powered-Lift             5\n",
       "Blimp                    4\n",
       "UNK                      2\n",
       "Rocket                   1\n",
       "ULTR                     1\n",
       "Name: count, dtype: int64"
      ]
     },
     "execution_count": 32,
     "metadata": {},
     "output_type": "execute_result"
    }
   ],
   "source": [
    "df['Aircraft.Category'].isna().sum() #58061\n",
    "df['Aircraft.Category'].value_counts()"
   ]
  },
  {
   "attachments": {},
   "cell_type": "markdown",
   "metadata": {},
   "source": [
    "**Aircraft Categories** column contains many null values, and the **Airplane** is the value with the most counts. Therefore, we decide to exclude all null values due to lack of specification and focus on a subset of data that specifies **Airplane** as the aircraft category. Our rationale for this decision is that the rest of categories such as **Balloon** or **Powered Parachute** are not as applicable to our risk analysis for business stakeholders. Also, inclusion of null values may increase the inaccuracy of the data, as the specific information are not included."
   ]
  },
  {
   "cell_type": "code",
   "execution_count": 33,
   "metadata": {},
   "outputs": [],
   "source": [
    "# Just focusing on 'Airplane' from Aircraft Category\n",
    "df_airplane = df.loc[df['Aircraft.Category'] == 'Airplane']"
   ]
  },
  {
   "attachments": {},
   "cell_type": "markdown",
   "metadata": {},
   "source": [
    "#### Investigation Type\n",
    "\n",
    "We explore the **Investigation Type** column and its value counts. We decide to only focus on the records specified with the **Accident** investigation type from further analyses."
   ]
  },
  {
   "cell_type": "code",
   "execution_count": 34,
   "metadata": {},
   "outputs": [
    {
     "data": {
      "text/plain": [
       "Investigation.Type\n",
       "Accident    25963\n",
       "Incident     1654\n",
       "Name: count, dtype: int64"
      ]
     },
     "execution_count": 34,
     "metadata": {},
     "output_type": "execute_result"
    }
   ],
   "source": [
    "# Value counts for the \"Investigation.Type\"\n",
    "df_airplane['Investigation.Type'].value_counts()"
   ]
  },
  {
   "cell_type": "code",
   "execution_count": 35,
   "metadata": {},
   "outputs": [
    {
     "data": {
      "text/plain": [
       "Investigation.Type\n",
       "Accident    25963\n",
       "Name: count, dtype: int64"
      ]
     },
     "execution_count": 35,
     "metadata": {},
     "output_type": "execute_result"
    }
   ],
   "source": [
    "# Filtering the \"Investigation.Type\" column to only contain 'Accident'\n",
    "df_airplane = df_airplane.loc[df_airplane['Investigation.Type'] == 'Accident']\n",
    "df_airplane['Investigation.Type'].value_counts()"
   ]
  },
  {
   "attachments": {},
   "cell_type": "markdown",
   "metadata": {},
   "source": [
    "#### Amateur Built\n",
    "\n",
    "Another filter we want to apply to the dataset is having no amateur built airplanes. We can apply this filter by only focusing on the records that has **\"No\"** in the **Amateur Built** column."
   ]
  },
  {
   "cell_type": "code",
   "execution_count": 36,
   "metadata": {},
   "outputs": [
    {
     "data": {
      "text/plain": [
       "Amateur.Built\n",
       "No    22794\n",
       "Name: count, dtype: int64"
      ]
     },
     "execution_count": 36,
     "metadata": {},
     "output_type": "execute_result"
    }
   ],
   "source": [
    "df_airplane = df_airplane.loc[df_airplane['Amateur.Built'] == \"No\"]\n",
    "df_airplane['Amateur.Built'].value_counts()"
   ]
  },
  {
   "attachments": {},
   "cell_type": "markdown",
   "metadata": {},
   "source": [
    "#### Country\n",
    "\n",
    "Here, we examine the **Country** column to determine if we want to proceed with our analyses on international accident and incident occurrence or focus on domestic in the United States."
   ]
  },
  {
   "cell_type": "code",
   "execution_count": 37,
   "metadata": {},
   "outputs": [
    {
     "data": {
      "text/plain": [
       "Country\n",
       "United States     20564\n",
       "Brazil              212\n",
       "Canada              143\n",
       "Mexico              142\n",
       "United Kingdom      127\n",
       "                  ...  \n",
       "Qatar                 1\n",
       "Mali                  1\n",
       "Greenland             1\n",
       "Cameroon              1\n",
       "South Korean          1\n",
       "Name: count, Length: 151, dtype: int64"
      ]
     },
     "execution_count": 37,
     "metadata": {},
     "output_type": "execute_result"
    }
   ],
   "source": [
    "df_airplane['Country'].value_counts()"
   ]
  },
  {
   "attachments": {},
   "cell_type": "markdown",
   "metadata": {},
   "source": [
    "Based on the value counts of the **Country** column, we decide to only focus on accidents occurred in the United States territories and drop any countries other than **United States**. As companies interested in this project will most likely be new to the aviation business, it may be more beneficial to start venturing out starting from domestic strategies rather than international."
   ]
  },
  {
   "cell_type": "code",
   "execution_count": 38,
   "metadata": {},
   "outputs": [
    {
     "data": {
      "text/plain": [
       "Country\n",
       "United States    20564\n",
       "Name: count, dtype: int64"
      ]
     },
     "execution_count": 38,
     "metadata": {},
     "output_type": "execute_result"
    }
   ],
   "source": [
    "df_USA_airplane = df_airplane.loc[df_airplane['Country'] == 'United States']\n",
    "\n",
    "# Checking if the only value is United States\n",
    "df_USA_airplane['Country'].value_counts()"
   ]
  },
  {
   "attachments": {},
   "cell_type": "markdown",
   "metadata": {},
   "source": [
    "#### Aircraft Damage, Total Fatal Injuries, Total Serious Injuries, and Total Minor Injuries\n",
    "\n",
    "For this project, these measures represent the main outcomes of the airplane accidents. These columns are crucial for completing the risk analyses. Therefore, while we explore these columns and understand the value counts, we also aim to handle the missing values with the most appropriate strategy."
   ]
  },
  {
   "cell_type": "code",
   "execution_count": 39,
   "metadata": {},
   "outputs": [
    {
     "data": {
      "text/plain": [
       "Aircraft.damage\n",
       "Substantial    17811\n",
       "Destroyed       2304\n",
       "Minor            124\n",
       "Unknown           40\n",
       "Name: count, dtype: int64"
      ]
     },
     "execution_count": 39,
     "metadata": {},
     "output_type": "execute_result"
    }
   ],
   "source": [
    "# How many missing values are there?\n",
    "df_USA_airplane[['Aircraft.damage', 'Total.Fatal.Injuries', 'Total.Serious.Injuries', 'Total.Minor.Injuries']].isna().sum()\n",
    "# 285, 2539, 2547, 2262 null values\n",
    "\n",
    "df_USA_airplane['Aircraft.damage'].value_counts()"
   ]
  },
  {
   "attachments": {},
   "cell_type": "markdown",
   "metadata": {},
   "source": [
    "Since there is an **Unknown** category, we decide to impute the missing values with the **Unknown** category in the **Aircraft Damage** column instead of simply deleting the rows. "
   ]
  },
  {
   "cell_type": "code",
   "execution_count": 40,
   "metadata": {},
   "outputs": [
    {
     "name": "stderr",
     "output_type": "stream",
     "text": [
      "/var/folders/g7/g9fxssr51yd508bw8xr5xtcw0000gn/T/ipykernel_13539/1230800681.py:1: SettingWithCopyWarning: \n",
      "A value is trying to be set on a copy of a slice from a DataFrame.\n",
      "Try using .loc[row_indexer,col_indexer] = value instead\n",
      "\n",
      "See the caveats in the documentation: https://pandas.pydata.org/pandas-docs/stable/user_guide/indexing.html#returning-a-view-versus-a-copy\n",
      "  df_USA_airplane['Aircraft.damage'] = df_USA_airplane['Aircraft.damage'].fillna(\"Unknown\")\n"
     ]
    },
    {
     "data": {
      "text/plain": [
       "Aircraft.damage\n",
       "Substantial    17811\n",
       "Destroyed       2304\n",
       "Unknown          325\n",
       "Minor            124\n",
       "Name: count, dtype: int64"
      ]
     },
     "execution_count": 40,
     "metadata": {},
     "output_type": "execute_result"
    }
   ],
   "source": [
    "df_USA_airplane['Aircraft.damage'] = df_USA_airplane['Aircraft.damage'].fillna(\"Unknown\")\n",
    "\n",
    "df_USA_airplane['Aircraft.damage'].isna().sum() # 0 null values\n",
    "df_USA_airplane['Aircraft.damage'].value_counts() # 325 Unknown"
   ]
  },
  {
   "cell_type": "code",
   "execution_count": 41,
   "metadata": {},
   "outputs": [
    {
     "data": {
      "text/plain": [
       "count    18025.00000\n",
       "mean         0.35362\n",
       "std          2.03825\n",
       "min          0.00000\n",
       "25%          0.00000\n",
       "50%          0.00000\n",
       "75%          0.00000\n",
       "max        228.00000\n",
       "Name: Total.Fatal.Injuries, dtype: float64"
      ]
     },
     "execution_count": 41,
     "metadata": {},
     "output_type": "execute_result"
    }
   ],
   "source": [
    "df_USA_airplane['Total.Fatal.Injuries'].value_counts()\n",
    "df_USA_airplane['Total.Fatal.Injuries'].describe()"
   ]
  },
  {
   "cell_type": "code",
   "execution_count": 62,
   "metadata": {},
   "outputs": [
    {
     "data": {
      "text/plain": [
       "Text(0, 0.5, 'Number of Accident Reports')"
      ]
     },
     "execution_count": 62,
     "metadata": {},
     "output_type": "execute_result"
    },
    {
     "data": {
      "image/png": "[encoded data removed]",
      "text/plain": [
       "<Figure size 1000x500 with 1 Axes>"
      ]
     },
     "metadata": {},
     "output_type": "display_data"
    }
   ],
   "source": [
    "# Histogram to visualize the distribution\n",
    "fig, ax = plt.subplots(figsize=(10,5))\n",
    "sns.histplot(x=df_USA_airplane['Total.Fatal.Injuries'], bins=200)\n",
    "ax.set_title(\"Total Fatal Injuries Distribution\")\n",
    "ax.set_xlim(0,30)\n",
    "ax.set_xlabel(\"Total Fatal Injuries per Accident\")\n",
    "ax.set_ylabel(\"Number of Accident Reports\")"
   ]
  },
  {
   "cell_type": "code",
   "execution_count": 52,
   "metadata": {},
   "outputs": [
    {
     "data": {
      "text/plain": [
       "count    18017.000000\n",
       "mean         0.281567\n",
       "std          1.620812\n",
       "min          0.000000\n",
       "25%          0.000000\n",
       "50%          0.000000\n",
       "75%          0.000000\n",
       "max        137.000000\n",
       "Name: Total.Serious.Injuries, dtype: float64"
      ]
     },
     "execution_count": 52,
     "metadata": {},
     "output_type": "execute_result"
    }
   ],
   "source": [
    "df_USA_airplane['Total.Serious.Injuries'].value_counts()\n",
    "df_USA_airplane['Total.Serious.Injuries'].describe()"
   ]
  },
  {
   "cell_type": "code",
   "execution_count": 63,
   "metadata": {},
   "outputs": [
    {
     "data": {
      "text/plain": [
       "Text(0, 0.5, 'Number of Accident Reports')"
      ]
     },
     "execution_count": 63,
     "metadata": {},
     "output_type": "execute_result"
    },
    {
     "data": {
      "image/png": "[encoded data removed]",
      "text/plain": [
       "<Figure size 1000x500 with 1 Axes>"
      ]
     },
     "metadata": {},
     "output_type": "display_data"
    }
   ],
   "source": [
    "fig, ax = plt.subplots(figsize=(10,5))\n",
    "sns.histplot(x=df_USA_airplane['Total.Serious.Injuries'], bins=100)\n",
    "ax.set_title(\"Total Serious Injuries Distribution\")\n",
    "ax.set_xlim(0,30)\n",
    "ax.set_xlabel(\"Total Serious Injuries per Accident\")\n",
    "ax.set_ylabel(\"Number of Accident Reports\")"
   ]
  },
  {
   "cell_type": "code",
   "execution_count": 54,
   "metadata": {},
   "outputs": [
    {
     "data": {
      "text/plain": [
       "count    18302.000000\n",
       "mean         0.218992\n",
       "std          0.820689\n",
       "min          0.000000\n",
       "25%          0.000000\n",
       "50%          0.000000\n",
       "75%          0.000000\n",
       "max         50.000000\n",
       "Name: Total.Minor.Injuries, dtype: float64"
      ]
     },
     "execution_count": 54,
     "metadata": {},
     "output_type": "execute_result"
    }
   ],
   "source": [
    "df_USA_airplane['Total.Minor.Injuries'].value_counts()\n",
    "df_USA_airplane['Total.Minor.Injuries'].describe()"
   ]
  },
  {
   "cell_type": "code",
   "execution_count": 64,
   "metadata": {},
   "outputs": [
    {
     "data": {
      "text/plain": [
       "Text(0, 0.5, 'Number of Accident Reports')"
      ]
     },
     "execution_count": 64,
     "metadata": {},
     "output_type": "execute_result"
    },
    {
     "data": {
      "image/png": "[encoded data removed]",
      "text/plain": [
       "<Figure size 1000x500 with 1 Axes>"
      ]
     },
     "metadata": {},
     "output_type": "display_data"
    }
   ],
   "source": [
    "fig, ax = plt.subplots(figsize=(10,5))\n",
    "sns.histplot(x=df_USA_airplane['Total.Minor.Injuries'], bins=50)\n",
    "ax.set_title(\"Total Minor Injuries Distribution\")\n",
    "ax.set_xlim(0,30)\n",
    "ax.set_xlabel(\"Total Minor Injuries per Accident\")\n",
    "ax.set_ylabel(\"Number of Accident Reports\")"
   ]
  },
  {
   "attachments": {},
   "cell_type": "markdown",
   "metadata": {},
   "source": [
    "Based on the value count function and brief histogram visualizations on these columns, we can see that  majority of their values are at **0**. Also, they are highly **right skewed**. Therefore, our strategy to handle the missing values from these columns is to impute with the **median** value of each column."
   ]
  },
  {
   "cell_type": "code",
   "execution_count": 15,
   "metadata": {},
   "outputs": [
    {
     "name": "stderr",
     "output_type": "stream",
     "text": [
      "/var/folders/g7/g9fxssr51yd508bw8xr5xtcw0000gn/T/ipykernel_13539/3669202890.py:1: SettingWithCopyWarning: \n",
      "A value is trying to be set on a copy of a slice from a DataFrame.\n",
      "Try using .loc[row_indexer,col_indexer] = value instead\n",
      "\n",
      "See the caveats in the documentation: https://pandas.pydata.org/pandas-docs/stable/user_guide/indexing.html#returning-a-view-versus-a-copy\n",
      "  df_USA_airplane['Total.Fatal.Injuries'] = df_USA_airplane['Total.Fatal.Injuries'].fillna(df_USA_airplane['Total.Fatal.Injuries'].median())\n",
      "/var/folders/g7/g9fxssr51yd508bw8xr5xtcw0000gn/T/ipykernel_13539/3669202890.py:2: SettingWithCopyWarning: \n",
      "A value is trying to be set on a copy of a slice from a DataFrame.\n",
      "Try using .loc[row_indexer,col_indexer] = value instead\n",
      "\n",
      "See the caveats in the documentation: https://pandas.pydata.org/pandas-docs/stable/user_guide/indexing.html#returning-a-view-versus-a-copy\n",
      "  df_USA_airplane['Total.Serious.Injuries'] = df_USA_airplane['Total.Serious.Injuries'].fillna(df_USA_airplane['Total.Serious.Injuries'].median())\n",
      "/var/folders/g7/g9fxssr51yd508bw8xr5xtcw0000gn/T/ipykernel_13539/3669202890.py:3: SettingWithCopyWarning: \n",
      "A value is trying to be set on a copy of a slice from a DataFrame.\n",
      "Try using .loc[row_indexer,col_indexer] = value instead\n",
      "\n",
      "See the caveats in the documentation: https://pandas.pydata.org/pandas-docs/stable/user_guide/indexing.html#returning-a-view-versus-a-copy\n",
      "  df_USA_airplane['Total.Minor.Injuries'] = df_USA_airplane['Total.Minor.Injuries'].fillna(df_USA_airplane['Total.Minor.Injuries'].median())\n"
     ]
    },
    {
     "data": {
      "text/plain": [
       "0"
      ]
     },
     "execution_count": 15,
     "metadata": {},
     "output_type": "execute_result"
    }
   ],
   "source": [
    "df_USA_airplane['Total.Fatal.Injuries'] = df_USA_airplane['Total.Fatal.Injuries'].fillna(df_USA_airplane['Total.Fatal.Injuries'].median())\n",
    "df_USA_airplane['Total.Serious.Injuries'] = df_USA_airplane['Total.Serious.Injuries'].fillna(df_USA_airplane['Total.Serious.Injuries'].median())\n",
    "df_USA_airplane['Total.Minor.Injuries'] = df_USA_airplane['Total.Minor.Injuries'].fillna(df_USA_airplane['Total.Minor.Injuries'].median())\n",
    "\n",
    "df_USA_airplane['Total.Fatal.Injuries'].isna().sum()\n",
    "df_USA_airplane['Total.Serious.Injuries'].isna().sum()\n",
    "df_USA_airplane['Total.Minor.Injuries'].isna().sum()"
   ]
  },
  {
   "attachments": {},
   "cell_type": "markdown",
   "metadata": {},
   "source": [
    "#### Creating **Year** and **Month** columns\n",
    "\n",
    "The **Event Date** column has the year, month, and day of the accident. Here, we are creating two separte columns to extract the **Year** and **Month** of the **Event Date**, and changing the data type to the integar instead of string for future analyses."
   ]
  },
  {
   "cell_type": "code",
   "execution_count": 16,
   "metadata": {},
   "outputs": [
    {
     "name": "stderr",
     "output_type": "stream",
     "text": [
      "/var/folders/g7/g9fxssr51yd508bw8xr5xtcw0000gn/T/ipykernel_13539/1306892535.py:4: SettingWithCopyWarning: \n",
      "A value is trying to be set on a copy of a slice from a DataFrame.\n",
      "Try using .loc[row_indexer,col_indexer] = value instead\n",
      "\n",
      "See the caveats in the documentation: https://pandas.pydata.org/pandas-docs/stable/user_guide/indexing.html#returning-a-view-versus-a-copy\n",
      "  df_USA_airplane['Year'] = df_USA_airplane['Event.Date'].str.split(\"-\").str[0]\n",
      "/var/folders/g7/g9fxssr51yd508bw8xr5xtcw0000gn/T/ipykernel_13539/1306892535.py:5: SettingWithCopyWarning: \n",
      "A value is trying to be set on a copy of a slice from a DataFrame.\n",
      "Try using .loc[row_indexer,col_indexer] = value instead\n",
      "\n",
      "See the caveats in the documentation: https://pandas.pydata.org/pandas-docs/stable/user_guide/indexing.html#returning-a-view-versus-a-copy\n",
      "  df_USA_airplane['Month'] = df_USA_airplane['Event.Date'].str.split(\"-\").str[1]\n"
     ]
    }
   ],
   "source": [
    "df_USA_airplane['Event.Date'].sort_values(ascending=False)\n",
    "\n",
    "# Spliting the \"Event.Date\" column to create \"Year\" and \"Month columns\"\n",
    "df_USA_airplane['Year'] = df_USA_airplane['Event.Date'].str.split(\"-\").str[0]\n",
    "df_USA_airplane['Month'] = df_USA_airplane['Event.Date'].str.split(\"-\").str[1]"
   ]
  },
  {
   "cell_type": "code",
   "execution_count": 17,
   "metadata": {},
   "outputs": [
    {
     "name": "stderr",
     "output_type": "stream",
     "text": [
      "/var/folders/g7/g9fxssr51yd508bw8xr5xtcw0000gn/T/ipykernel_13539/2714931733.py:2: SettingWithCopyWarning: \n",
      "A value is trying to be set on a copy of a slice from a DataFrame.\n",
      "Try using .loc[row_indexer,col_indexer] = value instead\n",
      "\n",
      "See the caveats in the documentation: https://pandas.pydata.org/pandas-docs/stable/user_guide/indexing.html#returning-a-view-versus-a-copy\n",
      "  df_USA_airplane['Year'] = df_USA_airplane['Year'].astype(int)\n",
      "/var/folders/g7/g9fxssr51yd508bw8xr5xtcw0000gn/T/ipykernel_13539/2714931733.py:3: SettingWithCopyWarning: \n",
      "A value is trying to be set on a copy of a slice from a DataFrame.\n",
      "Try using .loc[row_indexer,col_indexer] = value instead\n",
      "\n",
      "See the caveats in the documentation: https://pandas.pydata.org/pandas-docs/stable/user_guide/indexing.html#returning-a-view-versus-a-copy\n",
      "  df_USA_airplane['Month'] = df_USA_airplane['Month'].astype(int)\n"
     ]
    }
   ],
   "source": [
    "# Changing the data type to integers\n",
    "df_USA_airplane['Year'] = df_USA_airplane['Year'].astype(int)\n",
    "df_USA_airplane['Month'] = df_USA_airplane['Month'].astype(int)"
   ]
  },
  {
   "attachments": {},
   "cell_type": "markdown",
   "metadata": {},
   "source": [
    "## Month with most accidents\n",
    "\n",
    "Knowing the month with most accident records can provide an important insight to companies operating aircrafts because the companies can ensure appropriate preperation can be done during the most accident-prone time of the year. This may include budgeting for more repairs or completing mendatory safety training for the staff members.\n",
    "\n",
    "First, we visualize the number of records in the clean dataframe per month."
   ]
  },
  {
   "cell_type": "code",
   "execution_count": 18,
   "metadata": {},
   "outputs": [
    {
     "data": {
      "text/plain": [
       "[<matplotlib.axis.XTick at 0x13fde12d0>,\n",
       " <matplotlib.axis.XTick at 0x13fde12a0>,\n",
       " <matplotlib.axis.XTick at 0x13fde0d90>,\n",
       " <matplotlib.axis.XTick at 0x13fdcabf0>,\n",
       " <matplotlib.axis.XTick at 0x13fdcb6a0>,\n",
       " <matplotlib.axis.XTick at 0x13fdcbdf0>,\n",
       " <matplotlib.axis.XTick at 0x13faf8c40>,\n",
       " <matplotlib.axis.XTick at 0x13fdcb1f0>,\n",
       " <matplotlib.axis.XTick at 0x13faf9930>,\n",
       " <matplotlib.axis.XTick at 0x13fafa3e0>,\n",
       " <matplotlib.axis.XTick at 0x13fafae90>,\n",
       " <matplotlib.axis.XTick at 0x13fafb940>]"
      ]
     },
     "execution_count": 18,
     "metadata": {},
     "output_type": "execute_result"
    },
    {
     "data": {
      "image/png": "[encoded data removed]",
      "text/plain": [
       "<Figure size 1000x500 with 1 Axes>"
      ]
     },
     "metadata": {},
     "output_type": "display_data"
    }
   ],
   "source": [
    "# Bar graph of the number of records per month\n",
    "x = df_USA_airplane['Month'].value_counts().sort_index().index\n",
    "y = df_USA_airplane['Month'].value_counts().sort_index().values\n",
    "\n",
    "fig, ax = plt.subplots(figsize=(10,5))\n",
    "ax.bar(x, y)\n",
    "ax.set_title('Accident Records per Month')\n",
    "ax.set_xlabel('Month')\n",
    "ax.set_ylabel('Number of Records')\n",
    "ax.set_xticks(range(1,13))"
   ]
  },
  {
   "cell_type": "code",
   "execution_count": 20,
   "metadata": {},
   "outputs": [
    {
     "data": {
      "text/plain": [
       "[<matplotlib.axis.XTick at 0x158c61600>,\n",
       " <matplotlib.axis.XTick at 0x158c615d0>,\n",
       " <matplotlib.axis.XTick at 0x158c610c0>,\n",
       " <matplotlib.axis.XTick at 0x158c57040>,\n",
       " <matplotlib.axis.XTick at 0x158c57820>,\n",
       " <matplotlib.axis.XTick at 0x15b994310>,\n",
       " <matplotlib.axis.XTick at 0x15b994dc0>,\n",
       " <matplotlib.axis.XTick at 0x15b995870>,\n",
       " <matplotlib.axis.XTick at 0x158c56cb0>,\n",
       " <matplotlib.axis.XTick at 0x15b996290>,\n",
       " <matplotlib.axis.XTick at 0x15b996d40>,\n",
       " <matplotlib.axis.XTick at 0x15b9977f0>]"
      ]
     },
     "execution_count": 20,
     "metadata": {},
     "output_type": "execute_result"
    },
    {
     "data": {
      "image/png": "[encoded data removed]",
      "text/plain": [
       "<Figure size 1000x500 with 1 Axes>"
      ]
     },
     "metadata": {},
     "output_type": "display_data"
    }
   ],
   "source": [
    "# Bar graph again, but focusing on the most recent 10 years\n",
    "df_recent = df_USA_airplane.loc[df_USA_airplane['Year'] >= 2013]\n",
    "x = df_recent['Month'].value_counts().sort_index().index\n",
    "y = df_recent['Month'].value_counts().sort_index().values\n",
    "\n",
    "fig, ax = plt.subplots(figsize=(10,5))\n",
    "ax.bar(x, y)\n",
    "ax.set_title('Accident Records per Month from 2013 to 2022')\n",
    "ax.set_xlabel('Month')\n",
    "ax.set_ylabel('Number of Records')\n",
    "ax.set_xticks(range(1,13))"
   ]
  },
  {
   "cell_type": "code",
   "execution_count": 21,
   "metadata": {},
   "outputs": [
    {
     "data": {
      "text/plain": [
       "(0    7\n",
       " Name: Month, dtype: int64,\n",
       " 0    7\n",
       " Name: Month, dtype: int64)"
      ]
     },
     "execution_count": 21,
     "metadata": {},
     "output_type": "execute_result"
    }
   ],
   "source": [
    "# Determining the month with most accident records by calculating modes\n",
    "risk_month = df_USA_airplane['Month'].mode()\n",
    "risk_month_ten_years = df_recent['Month'].mode()\n",
    "\n",
    "risk_month, risk_month_ten_years"
   ]
  },
  {
   "attachments": {},
   "cell_type": "markdown",
   "metadata": {},
   "source": [
    "Based on two bar graphs presented above, **July** appears to be the month with most accidents on airplane. Also, this trend seems to be true when we look at the data to its entirety, or only the most recent 10 years. This is further validated by calculating the mode of both time periods.\n",
    "\n",
    "Since July is the month with the most reported accident, therefore heightened risk, we suggest that implementing preventative measures such as completing additional safety training of the staff members or budgeting more cost for aircraft repair for the month can be beneficial."
   ]
  },
  {
   "attachments": {},
   "cell_type": "markdown",
   "metadata": {},
   "source": [
    "## Number of Damaged Airplanes per Year\n",
    "\n",
    "The aircrafts will most likely experience different degrees of damange after accidents. Having appropriate strategies to repair aircrafts in different severities of damage can help the company become more financially efficient or prevent severe damages to the airplanes. For the purpose of this analysis, we only focus on the most recent 10 years.\n",
    "\n",
    "First step is to group the dataframe accordingly. We decide to group by the **Aircraft Damage** column, which is a categorical measure. Then, we sort by the **Year** column can calculate the total counts of records."
   ]
  },
  {
   "cell_type": "code",
   "execution_count": 85,
   "metadata": {},
   "outputs": [
    {
     "data": {
      "text/plain": [
       "Aircraft.damage  Year\n",
       "Destroyed        2019    135\n",
       "                 2018    113\n",
       "                 2015    111\n",
       "                 2017    111\n",
       "                 2016    104\n",
       "                 2020     97\n",
       "                 2013     95\n",
       "                 2021     93\n",
       "                 2014     84\n",
       "                 2022     78\n",
       "Minor            2019     12\n",
       "                 2022      9\n",
       "                 2021      7\n",
       "                 2013      6\n",
       "                 2017      6\n",
       "                 2016      5\n",
       "                 2015      5\n",
       "                 2014      5\n",
       "                 2018      3\n",
       "                 2020      2\n",
       "Substantial      2016    866\n",
       "                 2018    837\n",
       "                 2013    832\n",
       "                 2017    825\n",
       "                 2015    802\n",
       "                 2014    801\n",
       "                 2019    791\n",
       "                 2022    789\n",
       "                 2021    754\n",
       "                 2020    743\n",
       "Unknown          2021     36\n",
       "                 2022     30\n",
       "                 2015     21\n",
       "                 2017     19\n",
       "                 2018     18\n",
       "                 2019     18\n",
       "                 2016     14\n",
       "                 2014     13\n",
       "                 2020     11\n",
       "                 2013     10\n",
       "Name: count, dtype: int64"
      ]
     },
     "execution_count": 85,
     "metadata": {},
     "output_type": "execute_result"
    }
   ],
   "source": [
    "# Grouping the dataframe\n",
    "grouped_aircraft_damage = df_recent.groupby(['Aircraft.damage'])\n",
    "grouped_aircraft_damage['Year'].value_counts()"
   ]
  },
  {
   "cell_type": "code",
   "execution_count": 205,
   "metadata": {},
   "outputs": [
    {
     "data": {
      "text/plain": [
       "Year\n",
       "2021    36\n",
       "2022    30\n",
       "2015    21\n",
       "2017    19\n",
       "2018    18\n",
       "2019    18\n",
       "2016    14\n",
       "2014    13\n",
       "2020    11\n",
       "2013    10\n",
       "Name: count, dtype: int64"
      ]
     },
     "execution_count": 205,
     "metadata": {},
     "output_type": "execute_result"
    }
   ],
   "source": [
    "# Value counts of each category in the Aircraft.damage column\n",
    "grouped_aircraft_damage.get_group('Destroyed')['Year'].value_counts()\n",
    "grouped_aircraft_damage.get_group('Substantial')['Year'].value_counts()\n",
    "grouped_aircraft_damage.get_group('Minor')['Year'].value_counts()\n",
    "grouped_aircraft_damage.get_group('Unknown')['Year'].value_counts()"
   ]
  },
  {
   "cell_type": "code",
   "execution_count": 86,
   "metadata": {},
   "outputs": [
    {
     "data": {
      "text/plain": [
       "<matplotlib.legend.Legend at 0x28f311ed0>"
      ]
     },
     "execution_count": 86,
     "metadata": {},
     "output_type": "execute_result"
    },
    {
     "data": {
      "image/png": "[encoded data removed]",
      "text/plain": [
       "<Figure size 1000x500 with 1 Axes>"
      ]
     },
     "metadata": {},
     "output_type": "display_data"
    }
   ],
   "source": [
    "# Visualizing via line graph\n",
    "fig, ax = plt.subplots(figsize=(10,5))\n",
    "x_des = grouped_aircraft_damage.get_group('Destroyed')['Year'].value_counts().sort_index().index\n",
    "y_des = grouped_aircraft_damage.get_group('Destroyed')['Year'].value_counts().sort_index().values\n",
    "ax.plot(x_des,y_des, 'cyan', label='Destroyed')\n",
    "\n",
    "x_sub = grouped_aircraft_damage.get_group('Substantial')['Year'].value_counts().sort_index().index\n",
    "y_sub = grouped_aircraft_damage.get_group('Substantial')['Year'].value_counts().sort_index().values\n",
    "ax.plot(x_sub,y_sub, 'b', label='Substantial')\n",
    "\n",
    "x_minor = grouped_aircraft_damage.get_group('Minor')['Year'].value_counts().sort_index().index\n",
    "y_minor = grouped_aircraft_damage.get_group('Minor')['Year'].value_counts().sort_index().values\n",
    "ax.plot(x_minor,y_minor, 'orange', label='Minor')\n",
    "\n",
    "x_unknown = grouped_aircraft_damage.get_group('Unknown')['Year'].value_counts().sort_index().index\n",
    "y_unknown = grouped_aircraft_damage.get_group('Unknown')['Year'].value_counts().sort_index().values\n",
    "ax.plot(x_unknown,y_unknown, 'g', label='Unknown')\n",
    "\n",
    "ax.set_title(\"Number of Records per Year from 2013 to 2022\")\n",
    "ax.set_xlabel(\"Year\")\n",
    "ax.set_ylabel(\"Number of Records\")\n",
    "ax.legend()"
   ]
  },
  {
   "attachments": {},
   "cell_type": "markdown",
   "metadata": {},
   "source": [
    "As demonstrated in the value counts and the line graphs, significantly higher number of accidents have led to substantial damage in the airplane during last 10 years. Therefore, we suggest that when planning or future repairs of the airplanes, the company should expect a significant amount of cases to entail substantial repairment needed every year. This may involve assigning appropriate personel to repair, ensuring the materials needed for the repair are sufficient for repairng substantial damanges, or budgeting for substantial repairs. Furthermore, the overall safety policies of operating airplanes can be re-evaluated, as most airplane damages post-accidents are substantials."
   ]
  },
  {
   "attachments": {},
   "cell_type": "markdown",
   "metadata": {},
   "source": [
    "## Number of Injuries per Top 5 Makes of Airplanes\n",
    "\n",
    "When deciding which makes of airplanes to purchase, evaluating the risk associated with certain makes can provide important insight. Here, we aim to analyze and determine the make of airplanes associated with the most injuries of passengers after accidents during last 10 years.\n",
    "\n",
    "First, we need to clean the **Make** column because the format of entries are not consistent."
   ]
  },
  {
   "cell_type": "code",
   "execution_count": 87,
   "metadata": {},
   "outputs": [
    {
     "name": "stderr",
     "output_type": "stream",
     "text": [
      "/var/folders/g7/g9fxssr51yd508bw8xr5xtcw0000gn/T/ipykernel_8522/204647013.py:2: SettingWithCopyWarning: \n",
      "A value is trying to be set on a copy of a slice from a DataFrame.\n",
      "Try using .loc[row_indexer,col_indexer] = value instead\n",
      "\n",
      "See the caveats in the documentation: https://pandas.pydata.org/pandas-docs/stable/user_guide/indexing.html#returning-a-view-versus-a-copy\n",
      "  df_recent['Make'] = df_recent['Make'].str.lower()\n"
     ]
    },
    {
     "data": {
      "text/plain": [
       "Make\n",
       "cessna                      3203\n",
       "piper                       1879\n",
       "beech                        671\n",
       "mooney                       170\n",
       "boeing                       168\n",
       "                            ... \n",
       "volaircraft                    1\n",
       "drake                          1\n",
       "airtime aircraft inc           1\n",
       "p z l -warszawa-cnpsl          1\n",
       "arado-flugzeugwerke gmbh       1\n",
       "Name: count, Length: 644, dtype: int64"
      ]
     },
     "execution_count": 87,
     "metadata": {},
     "output_type": "execute_result"
    }
   ],
   "source": [
    "# Changing the \"Make\" values to title case\n",
    "df_recent['Make'] = df_recent['Make'].str.lower()\n",
    "df_recent['Make'].value_counts()"
   ]
  },
  {
   "attachments": {},
   "cell_type": "markdown",
   "metadata": {},
   "source": [
    "We also want to make sure that we are capturing some different names used to indicate the same make. Here, we create a dictionary to guide us with this transformation. We want to simplify the values in the **Make** column via running through the dictionary. If the make in the dataframe contains one of the keys of the dictionary, it should return the values of the corresponding key as a new value as the make. This way, we can capture the number of injuries per make more accurately."
   ]
  },
  {
   "cell_type": "code",
   "execution_count": 88,
   "metadata": {},
   "outputs": [],
   "source": [
    "make_dict = {\n",
    "    '737': 'boeing',\n",
    "    '777': 'boeing',\n",
    "    'airbus': 'airbus',\n",
    "    'boeing': 'boeing',\n",
    "    'bombardier': 'bombardier',\n",
    "    'douglas': 'douglas',\n",
    "    'embraer': 'embraer',\n",
    "    'diamond': 'diamond',\n",
    "    'gruman': 'gruman',\n",
    "    'gulfstream': 'gulfstream',\n",
    "    'mcdonnell': 'boeing',\n",
    "    'mooney': 'mooney',\n",
    "    'piper': 'piper',\n",
    "    'taylor': 'taylor'\n",
    "\n",
    "}\n",
    "\n",
    "# Creating a function to clean the make values\n",
    "def clean_make(make):\n",
    "    new_entry = make\n",
    "    for key in make_dict.keys():\n",
    "        if key in make:\n",
    "            new_entry = make_dict[key]\n",
    "        else:\n",
    "            continue\n",
    "    return new_entry\n",
    "            "
   ]
  },
  {
   "cell_type": "code",
   "execution_count": 89,
   "metadata": {},
   "outputs": [
    {
     "name": "stderr",
     "output_type": "stream",
     "text": [
      "/var/folders/g7/g9fxssr51yd508bw8xr5xtcw0000gn/T/ipykernel_8522/717645550.py:2: SettingWithCopyWarning: \n",
      "A value is trying to be set on a copy of a slice from a DataFrame.\n",
      "Try using .loc[row_indexer,col_indexer] = value instead\n",
      "\n",
      "See the caveats in the documentation: https://pandas.pydata.org/pandas-docs/stable/user_guide/indexing.html#returning-a-view-versus-a-copy\n",
      "  df_recent['Make'] = df_recent['Make'].map(clean_make)\n"
     ]
    },
    {
     "data": {
      "text/plain": [
       "Make\n",
       "cessna                      3203\n",
       "piper                       1907\n",
       "beech                        671\n",
       "mooney                       194\n",
       "boeing                       192\n",
       "                            ... \n",
       "broussard                      1\n",
       "northwing                      1\n",
       "fairchild heli-porter          1\n",
       "volaircraft                    1\n",
       "arado-flugzeugwerke gmbh       1\n",
       "Name: count, Length: 606, dtype: int64"
      ]
     },
     "execution_count": 89,
     "metadata": {},
     "output_type": "execute_result"
    }
   ],
   "source": [
    "# Cleaning the \"Make\" column by capturing different names for the same make\n",
    "df_recent['Make'] = df_recent['Make'].map(clean_make)\n",
    "\n",
    "# Checking if the value counts are different\n",
    "df_recent['Make'].value_counts()"
   ]
  },
  {
   "cell_type": "code",
   "execution_count": 90,
   "metadata": {},
   "outputs": [],
   "source": [
    "# Creating a list of 5 makes with most number of accident reports\n",
    "top_5_makes = df_recent['Make'].value_counts().index[:5]"
   ]
  },
  {
   "attachments": {},
   "cell_type": "markdown",
   "metadata": {},
   "source": [
    "Now that we have stored 5 makes of airplanes that have the most accident reports, we want to group the dataframe by these top 5 makes, and analyze which make of these 5 resulted in the highest number of injuries."
   ]
  },
  {
   "cell_type": "code",
   "execution_count": 91,
   "metadata": {},
   "outputs": [
    {
     "data": {
      "text/plain": [
       "Make\n",
       "beech     124.0\n",
       "boeing    135.0\n",
       "cessna    427.0\n",
       "mooney     47.0\n",
       "piper     355.0\n",
       "Name: Total.Minor.Injuries, dtype: float64"
      ]
     },
     "execution_count": 91,
     "metadata": {},
     "output_type": "execute_result"
    }
   ],
   "source": [
    "# Grouping on the top 5 makes\n",
    "grouped_make = df_recent.loc[df_recent['Make'].isin(top_5_makes)].groupby('Make')\n",
    "grouped_make['Total.Fatal.Injuries'].sum()\n",
    "grouped_make['Total.Serious.Injuries'].sum()\n",
    "grouped_make['Total.Minor.Injuries'].sum()"
   ]
  },
  {
   "cell_type": "code",
   "execution_count": 92,
   "metadata": {},
   "outputs": [
    {
     "data": {
      "text/plain": [
       "<matplotlib.legend.Legend at 0x28f11bb80>"
      ]
     },
     "execution_count": 92,
     "metadata": {},
     "output_type": "execute_result"
    },
    {
     "data": {
      "image/png": "[encoded data removed]",
      "text/plain": [
       "<Figure size 700x500 with 1 Axes>"
      ]
     },
     "metadata": {},
     "output_type": "display_data"
    }
   ],
   "source": [
    "\n",
    "fig, ax = plt.subplots(figsize=(7,5), layout='constrained')\n",
    "\n",
    "x = np.arange(len(top_5_makes))\n",
    "y_fatal = grouped_make['Total.Fatal.Injuries'].sum().values\n",
    "ax.bar(x - 0.3, y_fatal,0.3, label = 'Fatal')\n",
    "\n",
    "x_serious = grouped_make['Total.Serious.Injuries'].sum().index\n",
    "y_serious = grouped_make['Total.Serious.Injuries'].sum().values\n",
    "ax.bar(x_serious, y_serious, 0.3, label = 'Serious')\n",
    "\n",
    "y_minor = grouped_make['Total.Minor.Injuries'].sum().values\n",
    "ax.bar(x + 0.3,y_minor, 0.3, label = 'Minor')\n",
    "\n",
    "ax.set_title(\"Number of injuries in each make from 2013 to 2022\")\n",
    "ax.set_xlabel(\"Make\")\n",
    "ax.set_ylabel(\"Number of injuries\")\n",
    "ax.legend()"
   ]
  },
  {
   "attachments": {},
   "cell_type": "markdown",
   "metadata": {},
   "source": [
    "Across 3 different severities of injuries (Fatal, Serious and Minor), **Cessna** appears to be the make that had the highest number of people with injuries. This finding suggests that among the 5 makes that had the most accident reports, **Cessna** has the most fatal, serious, and minor injuries. However, it is important to note that there can be several caveats. For example, these 5 makes most likely have many accident reports because they are the most widely used airplane makes. Therefore, while this analysis can provide a great insight into what make has reported the most injuries during last 10 years, further investigation is warranted."
   ]
  },
  {
   "attachments": {},
   "cell_type": "markdown",
   "metadata": {},
   "source": [
    "## Conclusions\n",
    "\n",
    "This project aims to provide three recommendations for the stakeholders to consider when purchasing and operating airplanes in the United States based on data from 2013 to 2022:\n",
    "\n",
    "- **Additional safety training for staff members before July.** The most accident prone time of the year is July. Implementing additional safety training for members before this time hits can provide preventative measures.\n",
    "\n",
    "- **Stricter safety policies for the airplanes operating.** Our analysis on the airplane damage during last 10 years indicates that many post-accident airplanes have substantial damages. Therefore, we recommend that stricter safety policies to be implemented to prevent airplanes that are in risk for substantial damanges from operating, and to repair them before they are in need of substantial repair. Further analyses on various related topics such as cost of applying stricter safety policies, age of airplanes, and hours of operation can provide more in-depth information.\n",
    "\n",
    "- **Be cautious when purchasing from airplane makes with the most accident reports, such as Cessna** Among 5 makes that had most accidents reported, Cessna had the biggest number of injuries. It may be beneficial to keep this information in mind when purchasing new airplanes. However, these top 5 makes most likely have many accidents because they are the most widely used airplane makes. Also, each make has several different models of airplanes that may have different safety measures. Therefore, further research is warranted on the actual safety of these airplanes."
   ]
  }
 ],
 "metadata": {
  "kernelspec": {
   "display_name": "Python 3.10.2 64-bit",
   "language": "python",
   "name": "python3"
  },
  "language_info": {
   "codemirror_mode": {
    "name": "ipython",
    "version": 3
   },
   "file_extension": ".py",
   "mimetype": "text/x-python",
   "name": "python",
   "nbconvert_exporter": "python",
   "pygments_lexer": "ipython3",
   "version": "3.10.2"
  },
  "orig_nbformat": 4,
  "vscode": {
   "interpreter": {
    "hash": "aee8b7b246df8f9039afb4144a1f6fd8d2ca17a180786b69acc140d282b71a49"
   }
  }
 },
 "nbformat": 4,
 "nbformat_minor": 2
}
