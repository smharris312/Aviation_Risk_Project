{
 "cells": [
  {
   "cell_type": "markdown",
   "metadata": {},
   "source": [
    "# Aviation Risk Analysis\n",
    "\n",
    "## Overview\n",
    "\n",
    "This project aims to analyze the risk involved in aviation business by completing descriptive analyses on the [data](https://www.kaggle.com/datasets/khsamaha/aviation-accident-database-synopses). The ultimate goal of this project is to provide 3 actionable recommendations to companies evaluating the risk involved in the aviation business as potential future directions and strategies."
   ]
  },
  {
   "cell_type": "markdown",
   "metadata": {},
   "source": [
    "## Business Problem\n",
    "\n",
    "Businesses that are interested in expanding their businesses to the aviation operations and purchases must evaluate the risk involved prior to making an executive decision.  Knowledge on different risk factors in aviation business can help them provide more effective preventative measures or purchase less accident or incident prone makes and models of the aircraft."
   ]
  },
  {
   "cell_type": "markdown",
   "metadata": {},
   "source": [
    "## Data information\n",
    "This dataset retrieved from the National Transportation Safety Board contains the accidents and incidents that occurred from 1948 to 2022. \n"
   ]
  },
  {
   "cell_type": "code",
   "execution_count": 2,
   "metadata": {},
   "outputs": [],
   "source": [
    "import pandas as pd\n",
    "import matplotlib.pyplot as plt\n",
    "import seaborn as sns"
   ]
  },
  {
   "cell_type": "code",
   "execution_count": 24,
   "metadata": {},
   "outputs": [
    {
     "name": "stdout",
     "output_type": "stream",
     "text": [
      "<class 'pandas.core.frame.DataFrame'>\n",
      "RangeIndex: 90348 entries, 0 to 90347\n",
      "Data columns (total 31 columns):\n",
      " #   Column                  Non-Null Count  Dtype  \n",
      "---  ------                  --------------  -----  \n",
      " 0   Event.Id                88889 non-null  object \n",
      " 1   Investigation.Type      90348 non-null  object \n",
      " 2   Accident.Number         88889 non-null  object \n",
      " 3   Event.Date              88889 non-null  object \n",
      " 4   Location                88837 non-null  object \n",
      " 5   Country                 88663 non-null  object \n",
      " 6   Latitude                34382 non-null  object \n",
      " 7   Longitude               34373 non-null  object \n",
      " 8   Airport.Code            50132 non-null  object \n",
      " 9   Airport.Name            52704 non-null  object \n",
      " 10  Injury.Severity         87889 non-null  object \n",
      " 11  Aircraft.damage         85695 non-null  object \n",
      " 12  Aircraft.Category       32287 non-null  object \n",
      " 13  Registration.Number     87507 non-null  object \n",
      " 14  Make                    88826 non-null  object \n",
      " 15  Model                   88797 non-null  object \n",
      " 16  Amateur.Built           88787 non-null  object \n",
      " 17  Number.of.Engines       82805 non-null  float64\n",
      " 18  Engine.Type             81793 non-null  object \n",
      " 19  FAR.Description         32023 non-null  object \n",
      " 20  Schedule                12582 non-null  object \n",
      " 21  Purpose.of.flight       82697 non-null  object \n",
      " 22  Air.carrier             16648 non-null  object \n",
      " 23  Total.Fatal.Injuries    77488 non-null  float64\n",
      " 24  Total.Serious.Injuries  76379 non-null  float64\n",
      " 25  Total.Minor.Injuries    76956 non-null  float64\n",
      " 26  Total.Uninjured         82977 non-null  float64\n",
      " 27  Weather.Condition       84397 non-null  object \n",
      " 28  Broad.phase.of.flight   61724 non-null  object \n",
      " 29  Report.Status           82505 non-null  object \n",
      " 30  Publication.Date        73659 non-null  object \n",
      "dtypes: float64(5), object(26)\n",
      "memory usage: 21.4+ MB\n"
     ]
    },
    {
     "name": "stderr",
     "output_type": "stream",
     "text": [
      "/var/folders/g7/g9fxssr51yd508bw8xr5xtcw0000gn/T/ipykernel_6512/2998118098.py:1: DtypeWarning: Columns (6,7,28) have mixed types. Specify dtype option on import or set low_memory=False.\n",
      "  df = pd.read_csv('Aviation_Data.csv')\n"
     ]
    }
   ],
   "source": [
    "df = pd.read_csv('Aviation_Data.csv') \n",
    "df.info()"
   ]
  },
  {
   "cell_type": "markdown",
   "metadata": {},
   "source": [
    "The raw dataset contains 90348 entries and 30 columns. Although not all categories are visible, majority of columns appear to contain some null values. Also, majority of them have objects as their data type."
   ]
  },
  {
   "cell_type": "markdown",
   "metadata": {},
   "source": [
    "## Data Cleaning and Feature Engineering\n",
    "\n",
    "### Dropping irrelevant columns\n",
    "\n",
    "We have decided to drop several irrelevant columns to our risk analyses. These columns include:\n",
    "- Accident Number\n",
    "- Latitude\n",
    "- Longitude\n",
    "- Airport Code\n",
    "- Airport Name\n",
    "- Injury Severity (due to having more detailed information on other columns)\n",
    "- Registration Number\n",
    "- Engine Type\n",
    "- FAR Description\n",
    "- Schedule\n",
    "- Air carrier\n",
    "- Report Status\n",
    "- Publication Date\n"
   ]
  },
  {
   "cell_type": "code",
   "execution_count": 5,
   "metadata": {},
   "outputs": [],
   "source": [
    "columns_to_drop = ['Accident.Number', 'Latitude', 'Longitude', 'Airport.Code',\n",
    "       'Airport.Name', 'Injury.Severity', 'Registration.Number', 'Engine.Type', 'Total.Uninjured', 'FAR.Description',\n",
    "       'Schedule', 'Air.carrier', 'Report.Status',\n",
    "       'Publication.Date']\n",
    "df = df.drop(columns=columns_to_drop)\n"
   ]
  },
  {
   "cell_type": "code",
   "execution_count": 6,
   "metadata": {},
   "outputs": [
    {
     "name": "stdout",
     "output_type": "stream",
     "text": [
      "<class 'pandas.core.frame.DataFrame'>\n",
      "RangeIndex: 90348 entries, 0 to 90347\n",
      "Data columns (total 17 columns):\n",
      " #   Column                  Non-Null Count  Dtype  \n",
      "---  ------                  --------------  -----  \n",
      " 0   Event.Id                88889 non-null  object \n",
      " 1   Investigation.Type      90348 non-null  object \n",
      " 2   Event.Date              88889 non-null  object \n",
      " 3   Location                88837 non-null  object \n",
      " 4   Country                 88663 non-null  object \n",
      " 5   Aircraft.damage         85695 non-null  object \n",
      " 6   Aircraft.Category       32287 non-null  object \n",
      " 7   Make                    88826 non-null  object \n",
      " 8   Model                   88797 non-null  object \n",
      " 9   Amateur.Built           88787 non-null  object \n",
      " 10  Number.of.Engines       82805 non-null  float64\n",
      " 11  Purpose.of.flight       82697 non-null  object \n",
      " 12  Total.Fatal.Injuries    77488 non-null  float64\n",
      " 13  Total.Serious.Injuries  76379 non-null  float64\n",
      " 14  Total.Minor.Injuries    76956 non-null  float64\n",
      " 15  Weather.Condition       84397 non-null  object \n",
      " 16  Broad.phase.of.flight   61724 non-null  object \n",
      "dtypes: float64(4), object(13)\n",
      "memory usage: 11.7+ MB\n"
     ]
    }
   ],
   "source": [
    "df.info() # Now we have 17 columns, instead of 30 columns"
   ]
  },
  {
   "cell_type": "markdown",
   "metadata": {},
   "source": [
    "### Exploring Columns and Filtering\n",
    "\n",
    "Now that the dataframe contains the columns that are relevant to our risk analysis, we look into the missing values and value counts on invidivual columns and determine our strategies for managng missing values and simplifying the data further by focusing on a subset of this data. \n",
    "\n",
    "#### Aircraft Categories\n",
    "First, we explore the column **Aircraft Category** to simplify the dataframe by focusing on one type of aircraft, **airplane**, as it is more applicable for our risk analysis.\n"
   ]
  },
  {
   "cell_type": "code",
   "execution_count": 5,
   "metadata": {},
   "outputs": [
    {
     "data": {
      "text/plain": [
       "Aircraft.Category\n",
       "Airplane             27617\n",
       "Helicopter            3440\n",
       "Glider                 508\n",
       "Balloon                231\n",
       "Gyrocraft              173\n",
       "Weight-Shift           161\n",
       "Powered Parachute       91\n",
       "Ultralight              30\n",
       "Unknown                 14\n",
       "WSFT                     9\n",
       "Powered-Lift             5\n",
       "Blimp                    4\n",
       "UNK                      2\n",
       "Rocket                   1\n",
       "ULTR                     1\n",
       "Name: count, dtype: int64"
      ]
     },
     "execution_count": 5,
     "metadata": {},
     "output_type": "execute_result"
    }
   ],
   "source": [
    "df['Aircraft.Category'].isna().sum() #58061\n",
    "df['Aircraft.Category'].value_counts()"
   ]
  },
  {
   "cell_type": "markdown",
   "metadata": {},
   "source": [
    "**Aircraft Categories** column contains many null values, and the **Airplane** is the value with the most counts. Therefore, we decide to exclude all null values due to lack of specification and focus on a subset of data that specifies **Airplane** as the aircraft category. Our rationale for this decision is that the rest of categories such as **Balloon** or **Powered Parachute** are not as applicable to our risk analysis for business stakeholders. Also, inclusion of null values may increase the inaccuracy of the data, as the specific information are not included."
   ]
  },
  {
   "cell_type": "code",
   "execution_count": 7,
   "metadata": {},
   "outputs": [],
   "source": [
    "# Just focusing on 'Airplane' from Aircraft Category\n",
    "df_airplane = df.loc[df['Aircraft.Category'] == 'Airplane']"
   ]
  },
  {
   "cell_type": "markdown",
   "metadata": {},
   "source": [
    "#### Investigation Type\n",
    "\n",
    "We explore the **Investigation Type** column and its value counts. We decide to only focus on the records specified with the **Accident** investigation type from further analyses."
   ]
  },
  {
   "cell_type": "code",
   "execution_count": 25,
   "metadata": {},
   "outputs": [
    {
     "data": {
      "text/plain": [
       "Investigation.Type\n",
       "Accident    25963\n",
       "Name: count, dtype: int64"
      ]
     },
     "execution_count": 25,
     "metadata": {},
     "output_type": "execute_result"
    }
   ],
   "source": [
    "# Filtering the \"Investigation.Type\" column to only contain 'Accident'\n",
    "df_airplane = df_airplane.loc[df_airplane['Investigation.Type'] == 'Accident']\n",
    "df_airplane['Investigation.Type'].value_counts()"
   ]
  },
  {
   "cell_type": "markdown",
   "metadata": {},
   "source": [
    "#### Country\n",
    "\n",
    "Here, we examine the **Country** column to determine if we want to proceed with our analyses on international accident and incident occurrence or focus on domestic in the United States."
   ]
  },
  {
   "cell_type": "code",
   "execution_count": 26,
   "metadata": {},
   "outputs": [
    {
     "data": {
      "text/plain": [
       "Country\n",
       "United States     23659\n",
       "Brazil              216\n",
       "Canada              148\n",
       "Mexico              146\n",
       "United Kingdom      133\n",
       "                  ...  \n",
       "Singapore             1\n",
       "Nicaragua             1\n",
       "Madagascar            1\n",
       "Niger                 1\n",
       "South Korean          1\n",
       "Name: count, Length: 153, dtype: int64"
      ]
     },
     "execution_count": 26,
     "metadata": {},
     "output_type": "execute_result"
    }
   ],
   "source": [
    "df_airplane['Country'].value_counts()"
   ]
  },
  {
   "cell_type": "markdown",
   "metadata": {},
   "source": [
    "Based on the value counts of the **Country** column, we decide to only focus on accidents and incidents occurred in the United States territories and drop any other countries other than **United States**. As companies interested in this project will most likely be new to the aviation business, it may be more beneficial to start venturing out starting from domestic strategies rather than international."
   ]
  },
  {
   "cell_type": "code",
   "execution_count": 27,
   "metadata": {},
   "outputs": [
    {
     "data": {
      "text/plain": [
       "Country\n",
       "United States    23659\n",
       "Name: count, dtype: int64"
      ]
     },
     "execution_count": 27,
     "metadata": {},
     "output_type": "execute_result"
    }
   ],
   "source": [
    "df_USA_airplane = df_airplane.loc[df_airplane['Country'] == 'United States']\n",
    "\n",
    "# Checking if the only value is United States\n",
    "df_USA_airplane['Country'].value_counts()"
   ]
  },
  {
   "cell_type": "markdown",
   "metadata": {},
   "source": [
    "#### Aircraft Damage, Total Fatal Injuries, Total Serious Injuries, Total Minor Injuries, and Total Uninjured\n",
    "\n",
    "For this project, these measures represent the main outcomes fromt individual accidents and incidents. These columns are crucial for completing the risk analyses. Therefore, while we explore these columns and understand the value counts, we also aim to handle the missing values with the most appropriate strategy."
   ]
  },
  {
   "cell_type": "code",
   "execution_count": 28,
   "metadata": {},
   "outputs": [
    {
     "data": {
      "text/plain": [
       "Aircraft.damage\n",
       "Substantial    20517\n",
       "Destroyed       2673\n",
       "Minor            140\n",
       "Unknown           43\n",
       "Name: count, dtype: int64"
      ]
     },
     "execution_count": 28,
     "metadata": {},
     "output_type": "execute_result"
    }
   ],
   "source": [
    "# How many missing values are there?\n",
    "df_USA_airplane[['Aircraft.damage', 'Total.Fatal.Injuries', 'Total.Serious.Injuries', 'Total.Minor.Injuries']].isna().sum()\n",
    "# 482, 2961, 2941, 2596 null values\n",
    "\n",
    "df_USA_airplane['Aircraft.damage'].value_counts()"
   ]
  },
  {
   "cell_type": "markdown",
   "metadata": {},
   "source": [
    "Since there is an **Unknown** category, we decide to impute the missing values with the **Unknown** category in the **Aircraft Damage** column instead of simply deleting the rows. "
   ]
  },
  {
   "cell_type": "code",
   "execution_count": 29,
   "metadata": {},
   "outputs": [
    {
     "name": "stderr",
     "output_type": "stream",
     "text": [
      "/var/folders/g7/g9fxssr51yd508bw8xr5xtcw0000gn/T/ipykernel_6512/613409846.py:1: SettingWithCopyWarning: \n",
      "A value is trying to be set on a copy of a slice from a DataFrame.\n",
      "Try using .loc[row_indexer,col_indexer] = value instead\n",
      "\n",
      "See the caveats in the documentation: https://pandas.pydata.org/pandas-docs/stable/user_guide/indexing.html#returning-a-view-versus-a-copy\n",
      "  df_USA_airplane['Aircraft.damage'] = df_USA_airplane['Aircraft.damage'].fillna(\"Unknown\")\n"
     ]
    },
    {
     "data": {
      "text/plain": [
       "Aircraft.damage\n",
       "Substantial    20517\n",
       "Destroyed       2673\n",
       "Unknown          329\n",
       "Minor            140\n",
       "Name: count, dtype: int64"
      ]
     },
     "execution_count": 29,
     "metadata": {},
     "output_type": "execute_result"
    }
   ],
   "source": [
    "df_USA_airplane['Aircraft.damage'] = df_USA_airplane['Aircraft.damage'].fillna(\"Unknown\")\n",
    "\n",
    "df_USA_airplane['Aircraft.damage'].isna().sum() # 0 null values\n",
    "df_USA_airplane['Aircraft.damage'].value_counts() # 525 Unknown"
   ]
  },
  {
   "cell_type": "code",
   "execution_count": 11,
   "metadata": {},
   "outputs": [
    {
     "data": {
      "text/plain": [
       "count    21268.000000\n",
       "mean         0.342345\n",
       "std          1.891896\n",
       "min          0.000000\n",
       "25%          0.000000\n",
       "50%          0.000000\n",
       "75%          0.000000\n",
       "max        228.000000\n",
       "Name: Total.Fatal.Injuries, dtype: float64"
      ]
     },
     "execution_count": 11,
     "metadata": {},
     "output_type": "execute_result"
    }
   ],
   "source": [
    "df_USA_airplane['Total.Fatal.Injuries'].value_counts()\n",
    "df_USA_airplane['Total.Fatal.Injuries'].describe()"
   ]
  },
  {
   "cell_type": "code",
   "execution_count": 10,
   "metadata": {},
   "outputs": [
    {
     "data": {
      "text/plain": [
       "<Axes: xlabel='Total.Fatal.Injuries', ylabel='Count'>"
      ]
     },
     "execution_count": 10,
     "metadata": {},
     "output_type": "execute_result"
    },
    {
     "data": {
      "image/png": "[encoded data removed]",
      "text/plain": [
       "<Figure size 640x480 with 1 Axes>"
      ]
     },
     "metadata": {},
     "output_type": "display_data"
    }
   ],
   "source": [
    "# Histogram to visualize the distribution\n",
    "sns.histplot(x=df_USA_airplane['Total.Fatal.Injuries'], bins=200)"
   ]
  },
  {
   "cell_type": "code",
   "execution_count": 11,
   "metadata": {},
   "outputs": [
    {
     "data": {
      "text/plain": [
       "count    21288.000000\n",
       "mean         0.278608\n",
       "std          1.632464\n",
       "min          0.000000\n",
       "25%          0.000000\n",
       "50%          0.000000\n",
       "75%          0.000000\n",
       "max        137.000000\n",
       "Name: Total.Serious.Injuries, dtype: float64"
      ]
     },
     "execution_count": 11,
     "metadata": {},
     "output_type": "execute_result"
    }
   ],
   "source": [
    "df_USA_airplane['Total.Serious.Injuries'].value_counts()\n",
    "df_USA_airplane['Total.Serious.Injuries'].describe()"
   ]
  },
  {
   "cell_type": "code",
   "execution_count": 12,
   "metadata": {},
   "outputs": [
    {
     "data": {
      "text/plain": [
       "<Axes: xlabel='Total.Serious.Injuries', ylabel='Count'>"
      ]
     },
     "execution_count": 12,
     "metadata": {},
     "output_type": "execute_result"
    },
    {
     "data": {
      "image/png": "[encoded data removed]",
      "text/plain": [
       "<Figure size 640x480 with 1 Axes>"
      ]
     },
     "metadata": {},
     "output_type": "display_data"
    }
   ],
   "source": [
    "sns.histplot(x=df_USA_airplane['Total.Serious.Injuries'], bins=200)"
   ]
  },
  {
   "cell_type": "code",
   "execution_count": 13,
   "metadata": {},
   "outputs": [
    {
     "data": {
      "text/plain": [
       "count    21633.000000\n",
       "mean         0.220496\n",
       "std          0.822445\n",
       "min          0.000000\n",
       "25%          0.000000\n",
       "50%          0.000000\n",
       "75%          0.000000\n",
       "max         50.000000\n",
       "Name: Total.Minor.Injuries, dtype: float64"
      ]
     },
     "execution_count": 13,
     "metadata": {},
     "output_type": "execute_result"
    }
   ],
   "source": [
    "df_USA_airplane['Total.Minor.Injuries'].value_counts()\n",
    "df_USA_airplane['Total.Minor.Injuries'].describe()"
   ]
  },
  {
   "cell_type": "code",
   "execution_count": 18,
   "metadata": {},
   "outputs": [
    {
     "data": {
      "text/plain": [
       "<Axes: xlabel='Total.Minor.Injuries', ylabel='Count'>"
      ]
     },
     "execution_count": 18,
     "metadata": {},
     "output_type": "execute_result"
    },
    {
     "data": {
      "image/png": "[encoded data removed]",
      "text/plain": [
       "<Figure size 640x480 with 1 Axes>"
      ]
     },
     "metadata": {},
     "output_type": "display_data"
    }
   ],
   "source": [
    "sns.histplot(x=df_USA_airplane['Total.Minor.Injuries'], bins=50)"
   ]
  },
  {
   "cell_type": "markdown",
   "metadata": {},
   "source": [
    "Based on the value count function and brief histogram visualizations on these columns, we can see that  majority of their values are at **0**. Also, they are highly right skewed. Therefore, our strategy to handle the missing values from these columns is to impute with the median value of each column."
   ]
  },
  {
   "cell_type": "code",
   "execution_count": 30,
   "metadata": {},
   "outputs": [
    {
     "name": "stderr",
     "output_type": "stream",
     "text": [
      "/var/folders/g7/g9fxssr51yd508bw8xr5xtcw0000gn/T/ipykernel_6512/3669202890.py:1: SettingWithCopyWarning: \n",
      "A value is trying to be set on a copy of a slice from a DataFrame.\n",
      "Try using .loc[row_indexer,col_indexer] = value instead\n",
      "\n",
      "See the caveats in the documentation: https://pandas.pydata.org/pandas-docs/stable/user_guide/indexing.html#returning-a-view-versus-a-copy\n",
      "  df_USA_airplane['Total.Fatal.Injuries'] = df_USA_airplane['Total.Fatal.Injuries'].fillna(df_USA_airplane['Total.Fatal.Injuries'].median())\n",
      "/var/folders/g7/g9fxssr51yd508bw8xr5xtcw0000gn/T/ipykernel_6512/3669202890.py:2: SettingWithCopyWarning: \n",
      "A value is trying to be set on a copy of a slice from a DataFrame.\n",
      "Try using .loc[row_indexer,col_indexer] = value instead\n",
      "\n",
      "See the caveats in the documentation: https://pandas.pydata.org/pandas-docs/stable/user_guide/indexing.html#returning-a-view-versus-a-copy\n",
      "  df_USA_airplane['Total.Serious.Injuries'] = df_USA_airplane['Total.Serious.Injuries'].fillna(df_USA_airplane['Total.Serious.Injuries'].median())\n",
      "/var/folders/g7/g9fxssr51yd508bw8xr5xtcw0000gn/T/ipykernel_6512/3669202890.py:3: SettingWithCopyWarning: \n",
      "A value is trying to be set on a copy of a slice from a DataFrame.\n",
      "Try using .loc[row_indexer,col_indexer] = value instead\n",
      "\n",
      "See the caveats in the documentation: https://pandas.pydata.org/pandas-docs/stable/user_guide/indexing.html#returning-a-view-versus-a-copy\n",
      "  df_USA_airplane['Total.Minor.Injuries'] = df_USA_airplane['Total.Minor.Injuries'].fillna(df_USA_airplane['Total.Minor.Injuries'].median())\n"
     ]
    },
    {
     "data": {
      "text/plain": [
       "0"
      ]
     },
     "execution_count": 30,
     "metadata": {},
     "output_type": "execute_result"
    }
   ],
   "source": [
    "df_USA_airplane['Total.Fatal.Injuries'] = df_USA_airplane['Total.Fatal.Injuries'].fillna(df_USA_airplane['Total.Fatal.Injuries'].median())\n",
    "df_USA_airplane['Total.Serious.Injuries'] = df_USA_airplane['Total.Serious.Injuries'].fillna(df_USA_airplane['Total.Serious.Injuries'].median())\n",
    "df_USA_airplane['Total.Minor.Injuries'] = df_USA_airplane['Total.Minor.Injuries'].fillna(df_USA_airplane['Total.Minor.Injuries'].median())\n",
    "\n",
    "df_USA_airplane['Total.Fatal.Injuries'].isna().sum()\n",
    "df_USA_airplane['Total.Serious.Injuries'].isna().sum()\n",
    "df_USA_airplane['Total.Minor.Injuries'].isna().sum()"
   ]
  },
  {
   "cell_type": "markdown",
   "metadata": {},
   "source": [
    "#### Creating **Year** and **Month** columns\n",
    "\n",
    "The **Event Date** column has the year, month, and day of the accident or incident. Here, we are creating two separte columns to extract the **Year** and **Month** of the **Event Date**, and changing the data type to the integar instead of string for future analyses."
   ]
  },
  {
   "cell_type": "code",
   "execution_count": 15,
   "metadata": {},
   "outputs": [
    {
     "name": "stderr",
     "output_type": "stream",
     "text": [
      "/var/folders/g7/g9fxssr51yd508bw8xr5xtcw0000gn/T/ipykernel_6512/3395827739.py:3: SettingWithCopyWarning: \n",
      "A value is trying to be set on a copy of a slice from a DataFrame.\n",
      "Try using .loc[row_indexer,col_indexer] = value instead\n",
      "\n",
      "See the caveats in the documentation: https://pandas.pydata.org/pandas-docs/stable/user_guide/indexing.html#returning-a-view-versus-a-copy\n",
      "  df_USA_airplane['Year'] = df_USA_airplane['Event.Date'].str.split(\"-\").str[0]\n",
      "/var/folders/g7/g9fxssr51yd508bw8xr5xtcw0000gn/T/ipykernel_6512/3395827739.py:4: SettingWithCopyWarning: \n",
      "A value is trying to be set on a copy of a slice from a DataFrame.\n",
      "Try using .loc[row_indexer,col_indexer] = value instead\n",
      "\n",
      "See the caveats in the documentation: https://pandas.pydata.org/pandas-docs/stable/user_guide/indexing.html#returning-a-view-versus-a-copy\n",
      "  df_USA_airplane['Month'] = df_USA_airplane['Event.Date'].str.split(\"-\").str[1]\n"
     ]
    }
   ],
   "source": [
    "df_USA_airplane['Event.Date'].sort_values(ascending=False)\n",
    "\n",
    "df_USA_airplane['Year'] = df_USA_airplane['Event.Date'].str.split(\"-\").str[0]\n",
    "df_USA_airplane['Month'] = df_USA_airplane['Event.Date'].str.split(\"-\").str[1]"
   ]
  },
  {
   "cell_type": "code",
   "execution_count": 16,
   "metadata": {},
   "outputs": [
    {
     "name": "stderr",
     "output_type": "stream",
     "text": [
      "/var/folders/g7/g9fxssr51yd508bw8xr5xtcw0000gn/T/ipykernel_6512/576085226.py:1: SettingWithCopyWarning: \n",
      "A value is trying to be set on a copy of a slice from a DataFrame.\n",
      "Try using .loc[row_indexer,col_indexer] = value instead\n",
      "\n",
      "See the caveats in the documentation: https://pandas.pydata.org/pandas-docs/stable/user_guide/indexing.html#returning-a-view-versus-a-copy\n",
      "  df_USA_airplane['Year'] = df_USA_airplane['Year'].astype(int)\n",
      "/var/folders/g7/g9fxssr51yd508bw8xr5xtcw0000gn/T/ipykernel_6512/576085226.py:2: SettingWithCopyWarning: \n",
      "A value is trying to be set on a copy of a slice from a DataFrame.\n",
      "Try using .loc[row_indexer,col_indexer] = value instead\n",
      "\n",
      "See the caveats in the documentation: https://pandas.pydata.org/pandas-docs/stable/user_guide/indexing.html#returning-a-view-versus-a-copy\n",
      "  df_USA_airplane['Month'] = df_USA_airplane['Month'].astype(int)\n"
     ]
    }
   ],
   "source": [
    "df_USA_airplane['Year'] = df_USA_airplane['Year'].astype(int)\n",
    "df_USA_airplane['Month'] = df_USA_airplane['Month'].astype(int)"
   ]
  },
  {
   "cell_type": "code",
   "execution_count": 88,
   "metadata": {},
   "outputs": [],
   "source": [
    "# df_USA_airplane.to_csv(\"USA_Airplane_Clean.csv\")"
   ]
  },
  {
   "cell_type": "markdown",
   "metadata": {},
   "source": [
    "## Month with most accidents or incidents\n",
    "\n",
    "Knowing the month with most accident or incident records can provide an important insight to companies operating aircrafts because the companies can ensure appropriate preperation can be done during the most accident and incident prone time of the year. This may include budgeting for more repairs or completing mendatory safety training for the staff members.\n",
    "\n",
    "First, we visualize the number of records in the clean dataframe per month."
   ]
  },
  {
   "cell_type": "code",
   "execution_count": 17,
   "metadata": {},
   "outputs": [
    {
     "data": {
      "text/plain": [
       "[<matplotlib.axis.XTick at 0x2829113f0>,\n",
       " <matplotlib.axis.XTick at 0x2829113c0>,\n",
       " <matplotlib.axis.XTick at 0x28266a860>,\n",
       " <matplotlib.axis.XTick at 0x1641cabc0>,\n",
       " <matplotlib.axis.XTick at 0x1641cb670>,\n",
       " <matplotlib.axis.XTick at 0x1641ca440>,\n",
       " <matplotlib.axis.XTick at 0x164198670>,\n",
       " <matplotlib.axis.XTick at 0x164199120>,\n",
       " <matplotlib.axis.XTick at 0x164199bd0>,\n",
       " <matplotlib.axis.XTick at 0x16419a680>,\n",
       " <matplotlib.axis.XTick at 0x164199480>,\n",
       " <matplotlib.axis.XTick at 0x16419af80>]"
      ]
     },
     "execution_count": 17,
     "metadata": {},
     "output_type": "execute_result"
    },
    {
     "data": {
      "image/png": "[encoded data removed]",
      "text/plain": [
       "<Figure size 1000x500 with 1 Axes>"
      ]
     },
     "metadata": {},
     "output_type": "display_data"
    }
   ],
   "source": [
    "x = df_USA_airplane['Month'].value_counts().sort_index().index\n",
    "y = df_USA_airplane['Month'].value_counts().sort_index().values\n",
    "\n",
    "fig, ax = plt.subplots(figsize=(10,5))\n",
    "ax.bar(x, y)\n",
    "ax.set_title('Accident and Incident Records per Month')\n",
    "ax.set_xlabel('Month')\n",
    "ax.set_ylabel('Number of Records')\n",
    "ax.set_xticks(range(1,13))"
   ]
  },
  {
   "cell_type": "code",
   "execution_count": 18,
   "metadata": {},
   "outputs": [
    {
     "data": {
      "text/plain": [
       "[<matplotlib.axis.XTick at 0x16415ef20>,\n",
       " <matplotlib.axis.XTick at 0x16415f130>,\n",
       " <matplotlib.axis.XTick at 0x16415ee60>,\n",
       " <matplotlib.axis.XTick at 0x16e5a8a60>,\n",
       " <matplotlib.axis.XTick at 0x16e5a9510>,\n",
       " <matplotlib.axis.XTick at 0x16e5a9fc0>,\n",
       " <matplotlib.axis.XTick at 0x16e5aaa70>,\n",
       " <matplotlib.axis.XTick at 0x16e5a9150>,\n",
       " <matplotlib.axis.XTick at 0x16e5ab490>,\n",
       " <matplotlib.axis.XTick at 0x16e5abf40>,\n",
       " <matplotlib.axis.XTick at 0x16e5c8a30>,\n",
       " <matplotlib.axis.XTick at 0x16e5c94e0>]"
      ]
     },
     "execution_count": 18,
     "metadata": {},
     "output_type": "execute_result"
    },
    {
     "data": {
      "image/png": "[encoded data removed]",
      "text/plain": [
       "<Figure size 1000x500 with 1 Axes>"
      ]
     },
     "metadata": {},
     "output_type": "display_data"
    }
   ],
   "source": [
    "df_recent = df_USA_airplane.loc[df_USA_airplane['Year'] >= 2013]\n",
    "x = df_recent['Month'].value_counts().sort_index().index\n",
    "y = df_recent['Month'].value_counts().sort_index().values\n",
    "\n",
    "fig, ax = plt.subplots(figsize=(10,5))\n",
    "ax.bar(x, y)\n",
    "ax.set_title('Accident and Incident Records per Month in Last 10 Years')\n",
    "ax.set_xlabel('Month')\n",
    "ax.set_ylabel('Number of Records')\n",
    "ax.set_xticks(range(1,13))"
   ]
  },
  {
   "cell_type": "code",
   "execution_count": 19,
   "metadata": {},
   "outputs": [
    {
     "data": {
      "text/plain": [
       "(0    7\n",
       " Name: Month, dtype: int64,\n",
       " 0    7\n",
       " Name: Month, dtype: int64)"
      ]
     },
     "execution_count": 19,
     "metadata": {},
     "output_type": "execute_result"
    }
   ],
   "source": [
    "risk_month = df_USA_airplane['Month'].mode()\n",
    "risk_month_ten_years = df_recent['Month'].mode()\n",
    "\n",
    "risk_month, risk_month_ten_years"
   ]
  },
  {
   "cell_type": "markdown",
   "metadata": {},
   "source": [
    "Based on two bar graphs presented above, **July** appears to be the month with most accidents or incidents on airplane. Also, this trend seems to be true when we look at the data to its entirety, or only the most recent 10 years. This is further validated by calculating the mode of both time periods.\n",
    "\n",
    "Since July is the month with the most reported accident or incidents, therefore heightened risk, we suggest that implementing preventative measures such as completing additional safety training of the staff members or budgeting more cost for aircraft repair for the month can be beneficial."
   ]
  },
  {
   "cell_type": "markdown",
   "metadata": {},
   "source": [
    "## Number of Damaged Airplanes per Year\n",
    "\n",
    "Following accidents or incidents, the aircrafts will most likely experience different degrees of damange. Having appropriate strategies to repair aircrafts in different severities of damange can help the company become more financially efficient. For the purpose of this analysis, we only focus on the most recent 10 years.\n",
    "\n",
    "First step is to group the dataframe accordingly. We decide to group by the **Aircraft Damage** column, which is a categorical measure. Then, we sort by the **Year** column can calculate the total counts of records."
   ]
  },
  {
   "cell_type": "code",
   "execution_count": 20,
   "metadata": {},
   "outputs": [
    {
     "data": {
      "text/plain": [
       "Aircraft.damage  Year\n",
       "Destroyed        2019     151\n",
       "                 2015     132\n",
       "                 2018     129\n",
       "                 2016     127\n",
       "                 2017     124\n",
       "                 2013     117\n",
       "                 2020     115\n",
       "                 2014     114\n",
       "                 2021     110\n",
       "                 2022      91\n",
       "Minor            2015      25\n",
       "                 2014      25\n",
       "                 2013      25\n",
       "                 2017      15\n",
       "                 2019      15\n",
       "                 2016      14\n",
       "                 2022      13\n",
       "                 2021      13\n",
       "                 2018       8\n",
       "                 2020       6\n",
       "Substantial      2016    1005\n",
       "                 2018     990\n",
       "                 2017     976\n",
       "                 2014     951\n",
       "                 2013     948\n",
       "                 2015     940\n",
       "                 2019     931\n",
       "                 2022     883\n",
       "                 2020     861\n",
       "                 2021     836\n",
       "Unknown          2021      40\n",
       "                 2022      38\n",
       "                 2017      29\n",
       "                 2016      27\n",
       "                 2015      25\n",
       "                 2014      23\n",
       "                 2018      23\n",
       "                 2019      21\n",
       "                 2013      19\n",
       "                 2020      11\n",
       "Name: count, dtype: int64"
      ]
     },
     "execution_count": 20,
     "metadata": {},
     "output_type": "execute_result"
    }
   ],
   "source": [
    "# Grouping the dataframe\n",
    "grouped_aircraft_damage = df_recent.groupby(['Aircraft.damage'])\n",
    "grouped_aircraft_damage['Year'].value_counts()"
   ]
  },
  {
   "cell_type": "code",
   "execution_count": 83,
   "metadata": {},
   "outputs": [
    {
     "data": {
      "text/plain": [
       "Year\n",
       "2021    40\n",
       "2022    38\n",
       "2017    29\n",
       "2016    27\n",
       "2015    25\n",
       "2014    23\n",
       "2018    23\n",
       "2019    21\n",
       "2013    19\n",
       "2020    11\n",
       "Name: count, dtype: int64"
      ]
     },
     "execution_count": 83,
     "metadata": {},
     "output_type": "execute_result"
    }
   ],
   "source": [
    "# Value counts of each category in the Aircraft.damage column\n",
    "grouped_aircraft_damage.get_group('Destroyed')['Year'].value_counts()\n",
    "grouped_aircraft_damage.get_group('Substantial')['Year'].value_counts()\n",
    "grouped_aircraft_damage.get_group('Minor')['Year'].value_counts()\n",
    "grouped_aircraft_damage.get_group('Unknown')['Year'].value_counts()"
   ]
  },
  {
   "cell_type": "code",
   "execution_count": 21,
   "metadata": {},
   "outputs": [
    {
     "data": {
      "text/plain": [
       "<matplotlib.legend.Legend at 0x16e5e8be0>"
      ]
     },
     "execution_count": 21,
     "metadata": {},
     "output_type": "execute_result"
    },
    {
     "data": {
      "image/png": "[encoded data removed]",
      "text/plain": [
       "<Figure size 1000x500 with 1 Axes>"
      ]
     },
     "metadata": {},
     "output_type": "display_data"
    }
   ],
   "source": [
    "# Visualizing via line graph\n",
    "fig, ax = plt.subplots(figsize=(10,5))\n",
    "x_des = grouped_aircraft_damage.get_group('Destroyed')['Year'].value_counts().sort_index().index\n",
    "y_des = grouped_aircraft_damage.get_group('Destroyed')['Year'].value_counts().sort_index().values\n",
    "ax.plot(x_des,y_des, 'cyan', label='Destroyed')\n",
    "\n",
    "x_sub = grouped_aircraft_damage.get_group('Substantial')['Year'].value_counts().sort_index().index\n",
    "y_sub = grouped_aircraft_damage.get_group('Substantial')['Year'].value_counts().sort_index().values\n",
    "ax.plot(x_sub,y_sub, 'b', label='Substantial')\n",
    "\n",
    "x_minor = grouped_aircraft_damage.get_group('Minor')['Year'].value_counts().sort_index().index\n",
    "y_minor = grouped_aircraft_damage.get_group('Minor')['Year'].value_counts().sort_index().values\n",
    "ax.plot(x_minor,y_minor, 'orange', label='Minor')\n",
    "\n",
    "x_unknown = grouped_aircraft_damage.get_group('Unknown')['Year'].value_counts().sort_index().index\n",
    "y_unknown = grouped_aircraft_damage.get_group('Unknown')['Year'].value_counts().sort_index().values\n",
    "ax.plot(x_unknown,y_unknown, 'g', label='Unknown')\n",
    "\n",
    "ax.set_title(\"Number of Records per Year\")\n",
    "ax.set_xlabel(\"Year\")\n",
    "ax.set_ylabel(\"Number of Records\")\n",
    "ax.legend()"
   ]
  },
  {
   "cell_type": "markdown",
   "metadata": {},
   "source": [
    "As demonstrated in the value counts and the line graphs, significantly higher number of accidents or incidents have led to substantial damage in the airplane during last 10 years. Therefore, we suggest that when planning or future repairs of the airplanes, the company should expect a significant amount of cases to entail substantial repairment needed every year. This may involve assigning appropriate personel to repair, ensuring the materials needed for the repair are sufficient for repairng substantial damanges, or budgeting for substantial repairs."
   ]
  },
  {
   "cell_type": "markdown",
   "metadata": {},
   "source": [
    "## Number of Injuries per Top 5 Makes of Airplanes"
   ]
  },
  {
   "cell_type": "code",
   "execution_count": 23,
   "metadata": {},
   "outputs": [
    {
     "name": "stderr",
     "output_type": "stream",
     "text": [
      "/var/folders/g7/g9fxssr51yd508bw8xr5xtcw0000gn/T/ipykernel_6512/450139792.py:2: SettingWithCopyWarning: \n",
      "A value is trying to be set on a copy of a slice from a DataFrame.\n",
      "Try using .loc[row_indexer,col_indexer] = value instead\n",
      "\n",
      "See the caveats in the documentation: https://pandas.pydata.org/pandas-docs/stable/user_guide/indexing.html#returning-a-view-versus-a-copy\n",
      "  df_recent['Make'] = df_recent['Make'].str.lower()\n"
     ]
    },
    {
     "data": {
      "text/plain": [
       "Index(['cessna', 'piper', 'beech', 'boeing', 'mooney', 'air tractor inc',\n",
       "       'cirrus design corp', 'bellanca', 'aeronca', 'vans',\n",
       "       ...\n",
       "       'sukhoi', 'jones ralph d', 'pierce, henry', 'brunzlick larry r',\n",
       "       'lerch', 'graves bryon s', 'clark', 'boatright waylon', 'j. schilling',\n",
       "       'arado-flugzeugwerke gmbh'],\n",
       "      dtype='object', name='Make', length=1762)"
      ]
     },
     "execution_count": 23,
     "metadata": {},
     "output_type": "execute_result"
    }
   ],
   "source": [
    "# Changing the \"Make\" values to title case\n",
    "df_recent['Make'] = df_recent['Make'].str.lower()\n",
    "# top_5_makes = df_recent['Make'].value_counts().index[:5]\n",
    "df_recent['Make'].value_counts().index"
   ]
  },
  {
   "cell_type": "code",
   "execution_count": 116,
   "metadata": {},
   "outputs": [
    {
     "data": {
      "text/plain": [
       "Total.Serious.Injuries\n",
       "0.0    2673\n",
       "1.0     340\n",
       "2.0     161\n",
       "3.0      26\n",
       "4.0      16\n",
       "5.0       3\n",
       "6.0       2\n",
       "7.0       1\n",
       "9.0       1\n",
       "Name: count, dtype: int64"
      ]
     },
     "execution_count": 116,
     "metadata": {},
     "output_type": "execute_result"
    }
   ],
   "source": [
    "# Grouping on the top 5 makes\n",
    "grouped_make = df_recent.loc[df_recent['Make'].isin(top_5_makes)].groupby('Make')"
   ]
  }
 ],
 "metadata": {
  "kernelspec": {
   "display_name": "Python 3.10.2 64-bit",
   "language": "python",
   "name": "python3"
  },
  "language_info": {
   "codemirror_mode": {
    "name": "ipython",
    "version": 3
   },
   "file_extension": ".py",
   "mimetype": "text/x-python",
   "name": "python",
   "nbconvert_exporter": "python",
   "pygments_lexer": "ipython3",
   "version": "3.10.2"
  },
  "orig_nbformat": 4,
  "vscode": {
   "interpreter": {
    "hash": "aee8b7b246df8f9039afb4144a1f6fd8d2ca17a180786b69acc140d282b71a49"
   }
  }
 },
 "nbformat": 4,
 "nbformat_minor": 2
}
